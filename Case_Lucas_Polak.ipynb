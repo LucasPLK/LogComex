{
 "cells": [
  {
   "cell_type": "markdown",
   "id": "9fc9560e-61e9-4ee5-b3f8-d0b76b48e1fa",
   "metadata": {},
   "source": [
    "# Case LogComex\n",
    "* Lucas Cardoso Polak"
   ]
  },
  {
   "cell_type": "markdown",
   "id": "2be09365-cb60-4944-bc44-1a49465942f6",
   "metadata": {},
   "source": [
    "## 1. Uma análise exploratória da base, avaliando sazonalidades, outliers, etc.\n",
    "\n",
    "* Como o objetivo final é realizar uma predição de uma combinação epecífica de fatores, minha EDA já será direcionada nesse sentido."
   ]
  },
  {
   "cell_type": "markdown",
   "id": "9f6b5744-218d-44b7-a9ba-57fd0cbc3d54",
   "metadata": {},
   "source": [
    "Dado que os arquivos são pequenos (Da ordem de MB), não é necessário lançar mão de computação distribuida como spark."
   ]
  },
  {
   "cell_type": "markdown",
   "id": "5edbde40-b6a6-4fa7-bc55-27b5ede5cf4e",
   "metadata": {},
   "source": [
    "## EDA e Data Wrangling"
   ]
  },
  {
   "cell_type": "code",
   "execution_count": 1,
   "id": "c324354e-9833-4e89-b4d3-63414164ac3a",
   "metadata": {
    "tags": []
   },
   "outputs": [],
   "source": [
    "import pandas as pd\n",
    "\n",
    "import numpy as np\n",
    "\n",
    "from sklearn.ensemble import RandomForestClassifier\n",
    "from sklearn.metrics import classification_report, confusion_matrix, ConfusionMatrixDisplay\n",
    "from sklearn.preprocessing import OneHotEncoder, StandardScaler\n",
    "\n",
    "from category_encoders import TargetEncoder\n",
    "\n",
    "# biblioteca gráfica\n",
    "import matplotlib.pyplot as plt\n",
    "from statsmodels.stats.diagnostic import acorr_ljungbox"
   ]
  },
  {
   "cell_type": "code",
   "execution_count": 2,
   "id": "45ceb9ea-f770-4ad9-be60-4cdf9ccd74ac",
   "metadata": {
    "tags": []
   },
   "outputs": [],
   "source": [
    "def define_combination_name(dataset):\n",
    "    dataset = dataset.astype({\n",
    "    'cod_ncm': int, \n",
    "    'hscode': int, \n",
    "    'urf_cod': int, \n",
    "    'via_transp_cod': int\n",
    "    })\n",
    "    # ['via_transp_cod'] = dataset['via_transp_cod'].astype(int)\n",
    "    # dataset['urf_cod'] = dataset['urf_cod'].astype(int)\n",
    "    # dataset['cod_ncm'] = dataset['cod_ncm'].astype(int)\n",
    "    # dataset['hscode'] = dataset['hscode'].astype(int)\n",
    "    dataset.loc[:, 'combinacao'] = dataset[COMBINACAO_TARGET].apply(lambda x: \"_\".join([str(c) for c in x.values]), axis=1)\n",
    "    return dataset"
   ]
  },
  {
   "cell_type": "code",
   "execution_count": 3,
   "id": "15443f8a-514c-4708-b842-eea989f58d40",
   "metadata": {
    "tags": []
   },
   "outputs": [],
   "source": [
    "#carregamento dos dados\n",
    "df = pd.read_csv('./Data/historico_202001_202405.csv')"
   ]
  },
  {
   "cell_type": "code",
   "execution_count": 4,
   "id": "295fa55b-3afa-4558-9fd5-b0421dc8756a",
   "metadata": {
    "tags": []
   },
   "outputs": [
    {
     "data": {
      "text/html": [
       "<div>\n",
       "<style scoped>\n",
       "    .dataframe tbody tr th:only-of-type {\n",
       "        vertical-align: middle;\n",
       "    }\n",
       "\n",
       "    .dataframe tbody tr th {\n",
       "        vertical-align: top;\n",
       "    }\n",
       "\n",
       "    .dataframe thead th {\n",
       "        text-align: right;\n",
       "    }\n",
       "</style>\n",
       "<table border=\"1\" class=\"dataframe\">\n",
       "  <thead>\n",
       "    <tr style=\"text-align: right;\">\n",
       "      <th></th>\n",
       "      <th>anomes</th>\n",
       "      <th>cod_ncm</th>\n",
       "      <th>hscode</th>\n",
       "      <th>cod_pais_origem</th>\n",
       "      <th>urf_cod</th>\n",
       "      <th>via_transp_cod</th>\n",
       "      <th>sgl_uf_import</th>\n",
       "      <th>city_cod</th>\n",
       "      <th>cidade_import</th>\n",
       "      <th>qtd_emb</th>\n",
       "      <th>qtd_imp</th>\n",
       "      <th>qtd_exp</th>\n",
       "      <th>tot_valor</th>\n",
       "      <th>tot_peso</th>\n",
       "    </tr>\n",
       "  </thead>\n",
       "  <tbody>\n",
       "    <tr>\n",
       "      <th>0</th>\n",
       "      <td>202303</td>\n",
       "      <td>85176277</td>\n",
       "      <td>8517</td>\n",
       "      <td>160</td>\n",
       "      <td>817700.0</td>\n",
       "      <td>4.0</td>\n",
       "      <td>SP</td>\n",
       "      <td>3452205</td>\n",
       "      <td>SOROCABA</td>\n",
       "      <td>14</td>\n",
       "      <td>2</td>\n",
       "      <td>5</td>\n",
       "      <td>686970.17</td>\n",
       "      <td>3060.15</td>\n",
       "    </tr>\n",
       "    <tr>\n",
       "      <th>1</th>\n",
       "      <td>202208</td>\n",
       "      <td>84439933</td>\n",
       "      <td>8443</td>\n",
       "      <td>160</td>\n",
       "      <td>817800.0</td>\n",
       "      <td>1.0</td>\n",
       "      <td>SP</td>\n",
       "      <td>3452205</td>\n",
       "      <td>SOROCABA</td>\n",
       "      <td>14</td>\n",
       "      <td>2</td>\n",
       "      <td>2</td>\n",
       "      <td>192786.32</td>\n",
       "      <td>10766.40</td>\n",
       "    </tr>\n",
       "    <tr>\n",
       "      <th>2</th>\n",
       "      <td>202307</td>\n",
       "      <td>85176255</td>\n",
       "      <td>8517</td>\n",
       "      <td>160</td>\n",
       "      <td>817800.0</td>\n",
       "      <td>1.0</td>\n",
       "      <td>SP</td>\n",
       "      <td>3452205</td>\n",
       "      <td>SOROCABA</td>\n",
       "      <td>4</td>\n",
       "      <td>2</td>\n",
       "      <td>2</td>\n",
       "      <td>9085.65</td>\n",
       "      <td>47.65</td>\n",
       "    </tr>\n",
       "    <tr>\n",
       "      <th>3</th>\n",
       "      <td>202308</td>\n",
       "      <td>84439970</td>\n",
       "      <td>8443</td>\n",
       "      <td>160</td>\n",
       "      <td>817800.0</td>\n",
       "      <td>1.0</td>\n",
       "      <td>SP</td>\n",
       "      <td>3452205</td>\n",
       "      <td>SOROCABA</td>\n",
       "      <td>16</td>\n",
       "      <td>1</td>\n",
       "      <td>2</td>\n",
       "      <td>76159.33</td>\n",
       "      <td>13644.30</td>\n",
       "    </tr>\n",
       "    <tr>\n",
       "      <th>4</th>\n",
       "      <td>202205</td>\n",
       "      <td>87085099</td>\n",
       "      <td>8708</td>\n",
       "      <td>160</td>\n",
       "      <td>817800.0</td>\n",
       "      <td>1.0</td>\n",
       "      <td>SP</td>\n",
       "      <td>3409502</td>\n",
       "      <td>CAMPINAS</td>\n",
       "      <td>8</td>\n",
       "      <td>1</td>\n",
       "      <td>1</td>\n",
       "      <td>31832.38</td>\n",
       "      <td>257.28</td>\n",
       "    </tr>\n",
       "  </tbody>\n",
       "</table>\n",
       "</div>"
      ],
      "text/plain": [
       "   anomes   cod_ncm  hscode  cod_pais_origem   urf_cod  via_transp_cod  \\\n",
       "0  202303  85176277    8517              160  817700.0             4.0   \n",
       "1  202208  84439933    8443              160  817800.0             1.0   \n",
       "2  202307  85176255    8517              160  817800.0             1.0   \n",
       "3  202308  84439970    8443              160  817800.0             1.0   \n",
       "4  202205  87085099    8708              160  817800.0             1.0   \n",
       "\n",
       "  sgl_uf_import  city_cod cidade_import  qtd_emb  qtd_imp  qtd_exp  tot_valor  \\\n",
       "0            SP   3452205      SOROCABA       14        2        5  686970.17   \n",
       "1            SP   3452205      SOROCABA       14        2        2  192786.32   \n",
       "2            SP   3452205      SOROCABA        4        2        2    9085.65   \n",
       "3            SP   3452205      SOROCABA       16        1        2   76159.33   \n",
       "4            SP   3409502      CAMPINAS        8        1        1   31832.38   \n",
       "\n",
       "   tot_peso  \n",
       "0   3060.15  \n",
       "1  10766.40  \n",
       "2     47.65  \n",
       "3  13644.30  \n",
       "4    257.28  "
      ]
     },
     "execution_count": 4,
     "metadata": {},
     "output_type": "execute_result"
    }
   ],
   "source": [
    "df.head()"
   ]
  },
  {
   "cell_type": "code",
   "execution_count": 5,
   "id": "5c3260de-6b10-4099-b253-58b37f9f1ecb",
   "metadata": {
    "tags": []
   },
   "outputs": [
    {
     "name": "stdout",
     "output_type": "stream",
     "text": [
      "<class 'pandas.core.frame.DataFrame'>\n",
      "RangeIndex: 169637 entries, 0 to 169636\n",
      "Data columns (total 14 columns):\n",
      " #   Column           Non-Null Count   Dtype  \n",
      "---  ------           --------------   -----  \n",
      " 0   anomes           169637 non-null  int64  \n",
      " 1   cod_ncm          169637 non-null  int64  \n",
      " 2   hscode           169637 non-null  int64  \n",
      " 3   cod_pais_origem  169637 non-null  int64  \n",
      " 4   urf_cod          169420 non-null  float64\n",
      " 5   via_transp_cod   169088 non-null  float64\n",
      " 6   sgl_uf_import    169637 non-null  object \n",
      " 7   city_cod         169637 non-null  int64  \n",
      " 8   cidade_import    169637 non-null  object \n",
      " 9   qtd_emb          169637 non-null  int64  \n",
      " 10  qtd_imp          169637 non-null  int64  \n",
      " 11  qtd_exp          169637 non-null  int64  \n",
      " 12  tot_valor        169637 non-null  float64\n",
      " 13  tot_peso         169637 non-null  float64\n",
      "dtypes: float64(4), int64(8), object(2)\n",
      "memory usage: 18.1+ MB\n"
     ]
    }
   ],
   "source": [
    "df.info()"
   ]
  },
  {
   "cell_type": "code",
   "execution_count": 6,
   "id": "81aa8859-7729-454e-be30-9f248de9db30",
   "metadata": {
    "tags": []
   },
   "outputs": [
    {
     "data": {
      "text/plain": [
       "anomes               0\n",
       "cod_ncm              0\n",
       "hscode               0\n",
       "cod_pais_origem      0\n",
       "urf_cod            217\n",
       "via_transp_cod     549\n",
       "sgl_uf_import        0\n",
       "city_cod             0\n",
       "cidade_import        0\n",
       "qtd_emb              0\n",
       "qtd_imp              0\n",
       "qtd_exp              0\n",
       "tot_valor            0\n",
       "tot_peso             0\n",
       "dtype: int64"
      ]
     },
     "execution_count": 6,
     "metadata": {},
     "output_type": "execute_result"
    }
   ],
   "source": [
    "df.isna().sum()"
   ]
  },
  {
   "cell_type": "code",
   "execution_count": 7,
   "id": "3a8a8628-b45c-454c-a9bc-91144b119333",
   "metadata": {
    "tags": []
   },
   "outputs": [
    {
     "data": {
      "text/plain": [
       "anomes             0.000000\n",
       "cod_ncm            0.000000\n",
       "hscode             0.000000\n",
       "cod_pais_origem    0.000000\n",
       "urf_cod            0.127920\n",
       "via_transp_cod     0.323632\n",
       "sgl_uf_import      0.000000\n",
       "city_cod           0.000000\n",
       "cidade_import      0.000000\n",
       "qtd_emb            0.000000\n",
       "qtd_imp            0.000000\n",
       "qtd_exp            0.000000\n",
       "tot_valor          0.000000\n",
       "tot_peso           0.000000\n",
       "dtype: float64"
      ]
     },
     "execution_count": 7,
     "metadata": {},
     "output_type": "execute_result"
    }
   ],
   "source": [
    "#representatividade percentual de nulos\n",
    "df.isna().sum()*100/df.shape[0]"
   ]
  },
  {
   "cell_type": "markdown",
   "id": "28ada8a1-c21e-4270-92ed-90b68559185b",
   "metadata": {},
   "source": [
    "### Primeiras impressões\n",
    "* Analisando inicialmente os dados, nota-se que não é necessário fazer um importaçao mais avaçada (especificando sep, decimal, header, ... ) pois o arquivo já está bem formatado\n",
    "* Comparando o formato dos dados com o dicionário de dados, nota-se que o tipo dos dados já está correto.\n",
    "* Obs.: cod_ncm e hs_code possuem apenas 8 e 4 digitos resectivamente e não precisariam ser representados por um int64, Se fosse necessário otimizar espaço em memória, seria possível fazer o cast para int32, por exemplo.\n",
    "\n",
    "#### Importante:\n",
    "* 2 dos dados que compõe a combinação target possuem dados nulos (Baixa representatividade - menos de 0,5%)\n",
    "\n",
    "* Necessário investigar se o Nulo possui algum valor preditivo (Uma UF específica é sempre nula). Se sim, um método de nan inputation será necessário. Caso contrário um drop pode ser uma boa opção.\n",
    "\n",
    "* Uma outra boa opção seria conversar com um stakeholder para validar se num caso em produção, os Nulos deveriam ser tratados para sem preditos ou se seriam ignorados. "
   ]
  },
  {
   "cell_type": "code",
   "execution_count": 8,
   "id": "5f0b315d-3b14-4f28-9fd5-1dd2259a6647",
   "metadata": {
    "tags": []
   },
   "outputs": [
    {
     "data": {
      "text/plain": [
       "(40, 12)"
      ]
     },
     "execution_count": 8,
     "metadata": {},
     "output_type": "execute_result"
    }
   ],
   "source": [
    "# De acodo com o arquivo de especificação, devem existir 10 hscode para 4 estados.\n",
    "# Se ao agrupar por essas variáveis eu tiver 40 combinações após um dropna, tenho um bom indício de que esses dados realmente não farão falta num caso de treinamento\n",
    "df.dropna().groupby(['hscode', 'sgl_uf_import']).count().shape"
   ]
  },
  {
   "cell_type": "code",
   "execution_count": 9,
   "id": "ad5f4b19-c332-460b-abb9-cea635bf536d",
   "metadata": {
    "tags": []
   },
   "outputs": [
    {
     "data": {
      "text/plain": [
       "anomes             0\n",
       "cod_ncm            0\n",
       "hscode             0\n",
       "cod_pais_origem    0\n",
       "urf_cod            0\n",
       "via_transp_cod     0\n",
       "sgl_uf_import      0\n",
       "city_cod           0\n",
       "cidade_import      0\n",
       "qtd_emb            0\n",
       "qtd_imp            0\n",
       "qtd_exp            0\n",
       "tot_valor          0\n",
       "tot_peso           0\n",
       "dtype: int64"
      ]
     },
     "execution_count": 9,
     "metadata": {},
     "output_type": "execute_result"
    }
   ],
   "source": [
    "df_no_na = df.dropna()\n",
    "df_no_na.isna().sum()"
   ]
  },
  {
   "cell_type": "markdown",
   "id": "15e223b3-add9-408d-b0de-05d0dc970c7e",
   "metadata": {},
   "source": [
    "* cod_ncm e hscode são duas codificações para uma mesma mercadoria.\n",
    "* Hipotese: existe uma única combinação de cod_ncm e hscode de forma que posso utilizar apenas 1?"
   ]
  },
  {
   "cell_type": "code",
   "execution_count": 10,
   "id": "2c0965e4-7877-44f9-8c3e-6b3b8697f996",
   "metadata": {
    "tags": []
   },
   "outputs": [
    {
     "data": {
      "text/html": [
       "<div>\n",
       "<style scoped>\n",
       "    .dataframe tbody tr th:only-of-type {\n",
       "        vertical-align: middle;\n",
       "    }\n",
       "\n",
       "    .dataframe tbody tr th {\n",
       "        vertical-align: top;\n",
       "    }\n",
       "\n",
       "    .dataframe thead th {\n",
       "        text-align: right;\n",
       "    }\n",
       "</style>\n",
       "<table border=\"1\" class=\"dataframe\">\n",
       "  <thead>\n",
       "    <tr style=\"text-align: right;\">\n",
       "      <th></th>\n",
       "      <th></th>\n",
       "      <th>anomes</th>\n",
       "      <th>cod_pais_origem</th>\n",
       "      <th>urf_cod</th>\n",
       "      <th>via_transp_cod</th>\n",
       "      <th>sgl_uf_import</th>\n",
       "      <th>city_cod</th>\n",
       "      <th>cidade_import</th>\n",
       "      <th>qtd_emb</th>\n",
       "      <th>qtd_imp</th>\n",
       "      <th>qtd_exp</th>\n",
       "      <th>tot_valor</th>\n",
       "      <th>tot_peso</th>\n",
       "    </tr>\n",
       "    <tr>\n",
       "      <th>cod_ncm</th>\n",
       "      <th>hscode</th>\n",
       "      <th></th>\n",
       "      <th></th>\n",
       "      <th></th>\n",
       "      <th></th>\n",
       "      <th></th>\n",
       "      <th></th>\n",
       "      <th></th>\n",
       "      <th></th>\n",
       "      <th></th>\n",
       "      <th></th>\n",
       "      <th></th>\n",
       "      <th></th>\n",
       "    </tr>\n",
       "  </thead>\n",
       "  <tbody>\n",
       "    <tr>\n",
       "      <th>29151100</th>\n",
       "      <th>2915</th>\n",
       "      <td>478</td>\n",
       "      <td>478</td>\n",
       "      <td>478</td>\n",
       "      <td>478</td>\n",
       "      <td>478</td>\n",
       "      <td>478</td>\n",
       "      <td>478</td>\n",
       "      <td>478</td>\n",
       "      <td>478</td>\n",
       "      <td>478</td>\n",
       "      <td>478</td>\n",
       "      <td>478</td>\n",
       "    </tr>\n",
       "    <tr>\n",
       "      <th>29151210</th>\n",
       "      <th>2915</th>\n",
       "      <td>143</td>\n",
       "      <td>143</td>\n",
       "      <td>143</td>\n",
       "      <td>143</td>\n",
       "      <td>143</td>\n",
       "      <td>143</td>\n",
       "      <td>143</td>\n",
       "      <td>143</td>\n",
       "      <td>143</td>\n",
       "      <td>143</td>\n",
       "      <td>143</td>\n",
       "      <td>143</td>\n",
       "    </tr>\n",
       "    <tr>\n",
       "      <th>29151290</th>\n",
       "      <th>2915</th>\n",
       "      <td>198</td>\n",
       "      <td>198</td>\n",
       "      <td>198</td>\n",
       "      <td>198</td>\n",
       "      <td>198</td>\n",
       "      <td>198</td>\n",
       "      <td>198</td>\n",
       "      <td>198</td>\n",
       "      <td>198</td>\n",
       "      <td>198</td>\n",
       "      <td>198</td>\n",
       "      <td>198</td>\n",
       "    </tr>\n",
       "    <tr>\n",
       "      <th>29151310</th>\n",
       "      <th>2915</th>\n",
       "      <td>8</td>\n",
       "      <td>8</td>\n",
       "      <td>8</td>\n",
       "      <td>8</td>\n",
       "      <td>8</td>\n",
       "      <td>8</td>\n",
       "      <td>8</td>\n",
       "      <td>8</td>\n",
       "      <td>8</td>\n",
       "      <td>8</td>\n",
       "      <td>8</td>\n",
       "      <td>8</td>\n",
       "    </tr>\n",
       "    <tr>\n",
       "      <th>29151390</th>\n",
       "      <th>2915</th>\n",
       "      <td>106</td>\n",
       "      <td>106</td>\n",
       "      <td>106</td>\n",
       "      <td>106</td>\n",
       "      <td>106</td>\n",
       "      <td>106</td>\n",
       "      <td>106</td>\n",
       "      <td>106</td>\n",
       "      <td>106</td>\n",
       "      <td>106</td>\n",
       "      <td>106</td>\n",
       "      <td>106</td>\n",
       "    </tr>\n",
       "    <tr>\n",
       "      <th>...</th>\n",
       "      <th>...</th>\n",
       "      <td>...</td>\n",
       "      <td>...</td>\n",
       "      <td>...</td>\n",
       "      <td>...</td>\n",
       "      <td>...</td>\n",
       "      <td>...</td>\n",
       "      <td>...</td>\n",
       "      <td>...</td>\n",
       "      <td>...</td>\n",
       "      <td>...</td>\n",
       "      <td>...</td>\n",
       "      <td>...</td>\n",
       "    </tr>\n",
       "    <tr>\n",
       "      <th>90189092</th>\n",
       "      <th>9018</th>\n",
       "      <td>141</td>\n",
       "      <td>141</td>\n",
       "      <td>141</td>\n",
       "      <td>141</td>\n",
       "      <td>141</td>\n",
       "      <td>141</td>\n",
       "      <td>141</td>\n",
       "      <td>141</td>\n",
       "      <td>141</td>\n",
       "      <td>141</td>\n",
       "      <td>141</td>\n",
       "      <td>141</td>\n",
       "    </tr>\n",
       "    <tr>\n",
       "      <th>90189094</th>\n",
       "      <th>9018</th>\n",
       "      <td>87</td>\n",
       "      <td>87</td>\n",
       "      <td>87</td>\n",
       "      <td>87</td>\n",
       "      <td>87</td>\n",
       "      <td>87</td>\n",
       "      <td>87</td>\n",
       "      <td>87</td>\n",
       "      <td>87</td>\n",
       "      <td>87</td>\n",
       "      <td>87</td>\n",
       "      <td>87</td>\n",
       "    </tr>\n",
       "    <tr>\n",
       "      <th>90189095</th>\n",
       "      <th>9018</th>\n",
       "      <td>440</td>\n",
       "      <td>440</td>\n",
       "      <td>440</td>\n",
       "      <td>440</td>\n",
       "      <td>440</td>\n",
       "      <td>440</td>\n",
       "      <td>440</td>\n",
       "      <td>440</td>\n",
       "      <td>440</td>\n",
       "      <td>440</td>\n",
       "      <td>440</td>\n",
       "      <td>440</td>\n",
       "    </tr>\n",
       "    <tr>\n",
       "      <th>90189096</th>\n",
       "      <th>9018</th>\n",
       "      <td>95</td>\n",
       "      <td>95</td>\n",
       "      <td>95</td>\n",
       "      <td>95</td>\n",
       "      <td>95</td>\n",
       "      <td>95</td>\n",
       "      <td>95</td>\n",
       "      <td>95</td>\n",
       "      <td>95</td>\n",
       "      <td>95</td>\n",
       "      <td>95</td>\n",
       "      <td>95</td>\n",
       "    </tr>\n",
       "    <tr>\n",
       "      <th>90189099</th>\n",
       "      <th>9018</th>\n",
       "      <td>2843</td>\n",
       "      <td>2843</td>\n",
       "      <td>2843</td>\n",
       "      <td>2843</td>\n",
       "      <td>2843</td>\n",
       "      <td>2843</td>\n",
       "      <td>2843</td>\n",
       "      <td>2843</td>\n",
       "      <td>2843</td>\n",
       "      <td>2843</td>\n",
       "      <td>2843</td>\n",
       "      <td>2843</td>\n",
       "    </tr>\n",
       "  </tbody>\n",
       "</table>\n",
       "<p>617 rows × 12 columns</p>\n",
       "</div>"
      ],
      "text/plain": [
       "                 anomes  cod_pais_origem  urf_cod  via_transp_cod  \\\n",
       "cod_ncm  hscode                                                     \n",
       "29151100 2915       478              478      478             478   \n",
       "29151210 2915       143              143      143             143   \n",
       "29151290 2915       198              198      198             198   \n",
       "29151310 2915         8                8        8               8   \n",
       "29151390 2915       106              106      106             106   \n",
       "...                 ...              ...      ...             ...   \n",
       "90189092 9018       141              141      141             141   \n",
       "90189094 9018        87               87       87              87   \n",
       "90189095 9018       440              440      440             440   \n",
       "90189096 9018        95               95       95              95   \n",
       "90189099 9018      2843             2843     2843            2843   \n",
       "\n",
       "                 sgl_uf_import  city_cod  cidade_import  qtd_emb  qtd_imp  \\\n",
       "cod_ncm  hscode                                                             \n",
       "29151100 2915              478       478            478      478      478   \n",
       "29151210 2915              143       143            143      143      143   \n",
       "29151290 2915              198       198            198      198      198   \n",
       "29151310 2915                8         8              8        8        8   \n",
       "29151390 2915              106       106            106      106      106   \n",
       "...                        ...       ...            ...      ...      ...   \n",
       "90189092 9018              141       141            141      141      141   \n",
       "90189094 9018               87        87             87       87       87   \n",
       "90189095 9018              440       440            440      440      440   \n",
       "90189096 9018               95        95             95       95       95   \n",
       "90189099 9018             2843      2843           2843     2843     2843   \n",
       "\n",
       "                 qtd_exp  tot_valor  tot_peso  \n",
       "cod_ncm  hscode                                \n",
       "29151100 2915        478        478       478  \n",
       "29151210 2915        143        143       143  \n",
       "29151290 2915        198        198       198  \n",
       "29151310 2915          8          8         8  \n",
       "29151390 2915        106        106       106  \n",
       "...                  ...        ...       ...  \n",
       "90189092 9018        141        141       141  \n",
       "90189094 9018         87         87        87  \n",
       "90189095 9018        440        440       440  \n",
       "90189096 9018         95         95        95  \n",
       "90189099 9018       2843       2843      2843  \n",
       "\n",
       "[617 rows x 12 columns]"
      ]
     },
     "execution_count": 10,
     "metadata": {},
     "output_type": "execute_result"
    }
   ],
   "source": [
    "df_no_na.groupby(['cod_ncm', 'hscode']).count()"
   ]
  },
  {
   "cell_type": "code",
   "execution_count": 11,
   "id": "d769428c-d5b3-44dc-a036-9da0fb2761c4",
   "metadata": {
    "tags": []
   },
   "outputs": [
    {
     "data": {
      "text/plain": [
       "True"
      ]
     },
     "execution_count": 11,
     "metadata": {},
     "output_type": "execute_result"
    }
   ],
   "source": [
    "# confirmação de que os 4 primeiros digitos do cod_ncm são iguais ao hscode\n",
    "np.all(df_no_na['cod_ncm']//10000 == df_no_na['hscode'])"
   ]
  },
  {
   "cell_type": "markdown",
   "id": "ce45f0a9-9a7e-4b78-ad78-11934610bd10",
   "metadata": {},
   "source": [
    "## NCM \n",
    "* (Nomenclatura Comum do Mercosul) é um código de oito dígitos estabelecido pela legislação federal para identificar as mercadorias e facilitar o comércio internacional\n",
    "* https://www.gov.br/receitafederal/pt-br/assuntos/aduana-e-comercio-exterior/classificacao-fiscal-de-mercadorias/ncm"
   ]
  },
  {
   "cell_type": "markdown",
   "id": "50ecc59d-554f-4e39-b276-8c1edeafb276",
   "metadata": {},
   "source": [
    "#### Conclusão:\n",
    " - O hscode parece ser o descritivo macro da mercadoria e os primeiros 4 digitos do cod_ncm, porém os últimos 4 dígitos do cod_ncm podem indicar algumaoutra especificação da mercadoria\n",
    " - Aparentemente utilizar apenas o cod_ncm já seria suficiente, para essa task, porém o ideal seria confirmar essa informação com o dono do dado ou algum stakeholder para ter completa certeza disso\n",
    " - Para a sequência dessa task irei utilizar apenas o cod_ncm para simplificar as análises"
   ]
  },
  {
   "cell_type": "code",
   "execution_count": 12,
   "id": "b8b383c2-96e6-4fe6-ab67-c3bc452f44c7",
   "metadata": {
    "tags": []
   },
   "outputs": [
    {
     "data": {
      "text/plain": [
       "array([160])"
      ]
     },
     "execution_count": 12,
     "metadata": {},
     "output_type": "execute_result"
    }
   ],
   "source": [
    "# validação se o dataset contém somente dados da China:\n",
    "df_no_na['cod_pais_origem'].unique()"
   ]
  },
  {
   "cell_type": "markdown",
   "id": "898e72e1-1492-4574-8311-d454149fee70",
   "metadata": {},
   "source": [
    "#### Conclusão:\n",
    "- Dado que o dataset possui unicamente dados da China, posso remover essa coluna do dataset"
   ]
  },
  {
   "cell_type": "code",
   "execution_count": 13,
   "id": "f8de04b1-4abb-4662-8610-4685f72b436f",
   "metadata": {
    "tags": []
   },
   "outputs": [
    {
     "data": {
      "image/png": "[encoded data removed]",
      "text/plain": [
       "<Figure size 1200x300 with 1 Axes>"
      ]
     },
     "metadata": {},
     "output_type": "display_data"
    },
    {
     "data": {
      "image/png": "[encoded data removed]",
      "text/plain": [
       "<Figure size 1200x300 with 1 Axes>"
      ]
     },
     "metadata": {},
     "output_type": "display_data"
    },
    {
     "data": {
      "image/png": "[encoded data removed]",
      "text/plain": [
       "<Figure size 1200x300 with 1 Axes>"
      ]
     },
     "metadata": {},
     "output_type": "display_data"
    },
    {
     "data": {
      "image/png": "[encoded data removed]",
      "text/plain": [
       "<Figure size 1200x300 with 1 Axes>"
      ]
     },
     "metadata": {},
     "output_type": "display_data"
    }
   ],
   "source": [
    "plt.rcParams['figure.figsize']= (12,3)\n",
    "for i in df_no_na['sgl_uf_import'].unique():\n",
    "    df_no_na[df_no_na['sgl_uf_import']==i].groupby(['anomes']).agg({'qtd_emb':sum}).sort_index().plot.bar()\n",
    "    plt.title(i)"
   ]
  },
  {
   "cell_type": "markdown",
   "id": "d814d958-028f-4316-a6f1-82a078a0d493",
   "metadata": {},
   "source": [
    "## Análise\n",
    "* em todos os Estados houve uma grande queda em importações da China a partir do ano de 2022\n",
    "* Algum efeito da pandemia do Covid19? Alguma lei de importação?\n",
    "* São Paulo é disparado o maior importador\n",
    "* Como o objetivo final é saber se haverá ou não importação e não o volume importado, essa \"descontinuidade\" no dado não deve influenciar"
   ]
  },
  {
   "cell_type": "code",
   "execution_count": 14,
   "id": "ac2b519f-2fc6-4339-b52b-dab5878bccb9",
   "metadata": {
    "tags": []
   },
   "outputs": [],
   "source": [
    "df_clean = df_no_na.drop(['cod_pais_origem',], axis=1) #'hscode', "
   ]
  },
  {
   "cell_type": "code",
   "execution_count": 15,
   "id": "df60f2a2-38aa-4b9b-9d36-0df4dacb43ed",
   "metadata": {
    "tags": []
   },
   "outputs": [],
   "source": [
    "COMBINACAO_TARGET = ['cod_ncm',  \n",
    "                     'hscode',\n",
    "                    'urf_cod',\n",
    "                    'via_transp_cod', \n",
    "                    'sgl_uf_import']"
   ]
  },
  {
   "cell_type": "markdown",
   "id": "04d9866f-ba1b-49ad-8703-b533195a97cc",
   "metadata": {},
   "source": [
    "## validação de datas\n",
    "* Aparentemente só tenho casos positivos no dadaset, então vou precisar gerar os casos dos meses em que a combinação não existiu para poder treinar um classificador"
   ]
  },
  {
   "cell_type": "code",
   "execution_count": 16,
   "id": "41cf8b89-35ae-4f40-9d82-32daecc0c9db",
   "metadata": {
    "tags": []
   },
   "outputs": [
    {
     "data": {
      "text/plain": [
       "0\n",
       "1      2133\n",
       "2       899\n",
       "3       543\n",
       "4       380\n",
       "5       327\n",
       "       ... \n",
       "489       1\n",
       "183       1\n",
       "303       1\n",
       "112       1\n",
       "141       1\n",
       "Name: count, Length: 294, dtype: int64"
      ]
     },
     "execution_count": 16,
     "metadata": {},
     "output_type": "execute_result"
    }
   ],
   "source": [
    "df_clean.groupby(COMBINACAO_TARGET).size().reset_index()[0].value_counts()"
   ]
  },
  {
   "cell_type": "markdown",
   "id": "329504a7-cc23-417c-8b6e-d1954bc1a69a",
   "metadata": {},
   "source": [
    "* Muitos casos aparecem poucas vezes no datase, podendo gerar um certo vies"
   ]
  },
  {
   "cell_type": "code",
   "execution_count": 17,
   "id": "e9038509-3c34-4f27-9143-f3c97aa6a4dd",
   "metadata": {
    "tags": []
   },
   "outputs": [
    {
     "data": {
      "text/plain": [
       "1"
      ]
     },
     "execution_count": 17,
     "metadata": {},
     "output_type": "execute_result"
    }
   ],
   "source": [
    "#verificando se existe algum mês em que não houve embarque:\n",
    "df_clean.qtd_emb.min()\n",
    "# Como o mínimo de embarque existente é 1, realmente não existem casos negativos para cada anomes possível"
   ]
  },
  {
   "cell_type": "markdown",
   "id": "507b6a24-5e4a-4d66-9c93-1cb5e9df938d",
   "metadata": {
    "tags": []
   },
   "source": [
    "### Geração de frequência para cada combinação\n",
    "* Como temos apenas exemplos positivos, irei criar um dataset complementando os casos negativos"
   ]
  },
  {
   "cell_type": "code",
   "execution_count": 18,
   "id": "635359e4-6a97-4ae4-ac23-28c441cdd6aa",
   "metadata": {},
   "outputs": [
    {
     "data": {
      "text/plain": [
       "(202001, 202405)"
      ]
     },
     "execution_count": 18,
     "metadata": {},
     "output_type": "execute_result"
    }
   ],
   "source": [
    "df_clean.anomes.min(), df_clean.anomes.max()"
   ]
  },
  {
   "cell_type": "code",
   "execution_count": 19,
   "id": "ac513bd9-deb6-444f-82e1-b8d995c13ecb",
   "metadata": {
    "tags": []
   },
   "outputs": [],
   "source": [
    "data_range = pd.date_range(start='2020-01-01', end='2024-06-01', freq='M')\n",
    "df_data_range = pd.DataFrame([int(x.strftime('%Y%m')) for x in data_range], columns=['anomes'])"
   ]
  },
  {
   "cell_type": "code",
   "execution_count": 20,
   "id": "7bb75fea-8e5c-4840-a818-2975bfbe8d19",
   "metadata": {
    "tags": []
   },
   "outputs": [
    {
     "data": {
      "text/html": [
       "<div>\n",
       "<style scoped>\n",
       "    .dataframe tbody tr th:only-of-type {\n",
       "        vertical-align: middle;\n",
       "    }\n",
       "\n",
       "    .dataframe tbody tr th {\n",
       "        vertical-align: top;\n",
       "    }\n",
       "\n",
       "    .dataframe thead th {\n",
       "        text-align: right;\n",
       "    }\n",
       "</style>\n",
       "<table border=\"1\" class=\"dataframe\">\n",
       "  <thead>\n",
       "    <tr style=\"text-align: right;\">\n",
       "      <th></th>\n",
       "      <th>anomes</th>\n",
       "    </tr>\n",
       "  </thead>\n",
       "  <tbody>\n",
       "    <tr>\n",
       "      <th>0</th>\n",
       "      <td>202001</td>\n",
       "    </tr>\n",
       "    <tr>\n",
       "      <th>1</th>\n",
       "      <td>202002</td>\n",
       "    </tr>\n",
       "    <tr>\n",
       "      <th>2</th>\n",
       "      <td>202003</td>\n",
       "    </tr>\n",
       "  </tbody>\n",
       "</table>\n",
       "</div>"
      ],
      "text/plain": [
       "   anomes\n",
       "0  202001\n",
       "1  202002\n",
       "2  202003"
      ]
     },
     "execution_count": 20,
     "metadata": {},
     "output_type": "execute_result"
    }
   ],
   "source": [
    "df_data_range.head(3)"
   ]
  },
  {
   "cell_type": "code",
   "execution_count": 21,
   "id": "1b650d11-2a2a-4116-a644-449444e4486d",
   "metadata": {
    "tags": []
   },
   "outputs": [
    {
     "data": {
      "text/html": [
       "<div>\n",
       "<style scoped>\n",
       "    .dataframe tbody tr th:only-of-type {\n",
       "        vertical-align: middle;\n",
       "    }\n",
       "\n",
       "    .dataframe tbody tr th {\n",
       "        vertical-align: top;\n",
       "    }\n",
       "\n",
       "    .dataframe thead th {\n",
       "        text-align: right;\n",
       "    }\n",
       "</style>\n",
       "<table border=\"1\" class=\"dataframe\">\n",
       "  <thead>\n",
       "    <tr style=\"text-align: right;\">\n",
       "      <th></th>\n",
       "      <th>anomes</th>\n",
       "      <th>cod_ncm</th>\n",
       "      <th>hscode</th>\n",
       "      <th>urf_cod</th>\n",
       "      <th>via_transp_cod</th>\n",
       "      <th>sgl_uf_import</th>\n",
       "      <th>city_cod</th>\n",
       "      <th>cidade_import</th>\n",
       "      <th>qtd_emb</th>\n",
       "      <th>qtd_imp</th>\n",
       "      <th>qtd_exp</th>\n",
       "      <th>tot_valor</th>\n",
       "      <th>tot_peso</th>\n",
       "    </tr>\n",
       "  </thead>\n",
       "  <tbody>\n",
       "    <tr>\n",
       "      <th>0</th>\n",
       "      <td>202303</td>\n",
       "      <td>85176277</td>\n",
       "      <td>8517</td>\n",
       "      <td>817700.0</td>\n",
       "      <td>4.0</td>\n",
       "      <td>SP</td>\n",
       "      <td>3452205</td>\n",
       "      <td>SOROCABA</td>\n",
       "      <td>14</td>\n",
       "      <td>2</td>\n",
       "      <td>5</td>\n",
       "      <td>686970.17</td>\n",
       "      <td>3060.15</td>\n",
       "    </tr>\n",
       "    <tr>\n",
       "      <th>1</th>\n",
       "      <td>202208</td>\n",
       "      <td>84439933</td>\n",
       "      <td>8443</td>\n",
       "      <td>817800.0</td>\n",
       "      <td>1.0</td>\n",
       "      <td>SP</td>\n",
       "      <td>3452205</td>\n",
       "      <td>SOROCABA</td>\n",
       "      <td>14</td>\n",
       "      <td>2</td>\n",
       "      <td>2</td>\n",
       "      <td>192786.32</td>\n",
       "      <td>10766.40</td>\n",
       "    </tr>\n",
       "  </tbody>\n",
       "</table>\n",
       "</div>"
      ],
      "text/plain": [
       "   anomes   cod_ncm  hscode   urf_cod  via_transp_cod sgl_uf_import  city_cod  \\\n",
       "0  202303  85176277    8517  817700.0             4.0            SP   3452205   \n",
       "1  202208  84439933    8443  817800.0             1.0            SP   3452205   \n",
       "\n",
       "  cidade_import  qtd_emb  qtd_imp  qtd_exp  tot_valor  tot_peso  \n",
       "0      SOROCABA       14        2        5  686970.17   3060.15  \n",
       "1      SOROCABA       14        2        2  192786.32  10766.40  "
      ]
     },
     "execution_count": 21,
     "metadata": {},
     "output_type": "execute_result"
    }
   ],
   "source": [
    "df_clean.head(2)"
   ]
  },
  {
   "cell_type": "markdown",
   "id": "91b484c7-f07d-4e69-ae80-d6c160cad9af",
   "metadata": {
    "tags": []
   },
   "source": [
    "## Hipotese: \n",
    "* Existe alguma relação de importação exportação nas variáveis qtd_emb, qtd_imp e qtd_exp que ajude na predição?\n",
    "* Alguma forma de encoding que auxilie?nas"
   ]
  },
  {
   "cell_type": "code",
   "execution_count": null,
   "id": "67f53938-1c95-49ad-8138-af527742177f",
   "metadata": {},
   "outputs": [],
   "source": []
  },
  {
   "cell_type": "code",
   "execution_count": 22,
   "id": "f75fe64a-9eae-42a5-afdb-5555a9013c33",
   "metadata": {
    "tags": []
   },
   "outputs": [
    {
     "data": {
      "text/html": [
       "<div>\n",
       "<style scoped>\n",
       "    .dataframe tbody tr th:only-of-type {\n",
       "        vertical-align: middle;\n",
       "    }\n",
       "\n",
       "    .dataframe tbody tr th {\n",
       "        vertical-align: top;\n",
       "    }\n",
       "\n",
       "    .dataframe thead th {\n",
       "        text-align: right;\n",
       "    }\n",
       "</style>\n",
       "<table border=\"1\" class=\"dataframe\">\n",
       "  <thead>\n",
       "    <tr style=\"text-align: right;\">\n",
       "      <th></th>\n",
       "      <th>anomes</th>\n",
       "      <th>cod_ncm</th>\n",
       "      <th>hscode</th>\n",
       "      <th>urf_cod</th>\n",
       "      <th>via_transp_cod</th>\n",
       "      <th>sgl_uf_import</th>\n",
       "      <th>target</th>\n",
       "    </tr>\n",
       "  </thead>\n",
       "  <tbody>\n",
       "    <tr>\n",
       "      <th>0</th>\n",
       "      <td>202001</td>\n",
       "      <td>29151100</td>\n",
       "      <td>2915</td>\n",
       "      <td>817800.0</td>\n",
       "      <td>1.0</td>\n",
       "      <td>MG</td>\n",
       "      <td>1</td>\n",
       "    </tr>\n",
       "    <tr>\n",
       "      <th>1</th>\n",
       "      <td>202001</td>\n",
       "      <td>29151100</td>\n",
       "      <td>2915</td>\n",
       "      <td>817800.0</td>\n",
       "      <td>1.0</td>\n",
       "      <td>SP</td>\n",
       "      <td>1</td>\n",
       "    </tr>\n",
       "    <tr>\n",
       "      <th>2</th>\n",
       "      <td>202001</td>\n",
       "      <td>29151100</td>\n",
       "      <td>2915</td>\n",
       "      <td>917800.0</td>\n",
       "      <td>1.0</td>\n",
       "      <td>RS</td>\n",
       "      <td>1</td>\n",
       "    </tr>\n",
       "    <tr>\n",
       "      <th>3</th>\n",
       "      <td>202001</td>\n",
       "      <td>29151100</td>\n",
       "      <td>2915</td>\n",
       "      <td>1010252.0</td>\n",
       "      <td>7.0</td>\n",
       "      <td>RS</td>\n",
       "      <td>1</td>\n",
       "    </tr>\n",
       "    <tr>\n",
       "      <th>4</th>\n",
       "      <td>202001</td>\n",
       "      <td>29151100</td>\n",
       "      <td>2915</td>\n",
       "      <td>1017700.0</td>\n",
       "      <td>1.0</td>\n",
       "      <td>RS</td>\n",
       "      <td>1</td>\n",
       "    </tr>\n",
       "    <tr>\n",
       "      <th>5</th>\n",
       "      <td>202001</td>\n",
       "      <td>29151210</td>\n",
       "      <td>2915</td>\n",
       "      <td>917800.0</td>\n",
       "      <td>1.0</td>\n",
       "      <td>RS</td>\n",
       "      <td>1</td>\n",
       "    </tr>\n",
       "    <tr>\n",
       "      <th>6</th>\n",
       "      <td>202001</td>\n",
       "      <td>29151210</td>\n",
       "      <td>2915</td>\n",
       "      <td>1017700.0</td>\n",
       "      <td>1.0</td>\n",
       "      <td>RS</td>\n",
       "      <td>1</td>\n",
       "    </tr>\n",
       "    <tr>\n",
       "      <th>7</th>\n",
       "      <td>202001</td>\n",
       "      <td>29151290</td>\n",
       "      <td>2915</td>\n",
       "      <td>817600.0</td>\n",
       "      <td>4.0</td>\n",
       "      <td>SP</td>\n",
       "      <td>1</td>\n",
       "    </tr>\n",
       "    <tr>\n",
       "      <th>8</th>\n",
       "      <td>202001</td>\n",
       "      <td>29151290</td>\n",
       "      <td>2915</td>\n",
       "      <td>817800.0</td>\n",
       "      <td>1.0</td>\n",
       "      <td>SP</td>\n",
       "      <td>1</td>\n",
       "    </tr>\n",
       "    <tr>\n",
       "      <th>9</th>\n",
       "      <td>202001</td>\n",
       "      <td>29151390</td>\n",
       "      <td>2915</td>\n",
       "      <td>1017700.0</td>\n",
       "      <td>1.0</td>\n",
       "      <td>RS</td>\n",
       "      <td>1</td>\n",
       "    </tr>\n",
       "  </tbody>\n",
       "</table>\n",
       "</div>"
      ],
      "text/plain": [
       "   anomes   cod_ncm  hscode    urf_cod  via_transp_cod sgl_uf_import  target\n",
       "0  202001  29151100    2915   817800.0             1.0            MG       1\n",
       "1  202001  29151100    2915   817800.0             1.0            SP       1\n",
       "2  202001  29151100    2915   917800.0             1.0            RS       1\n",
       "3  202001  29151100    2915  1010252.0             7.0            RS       1\n",
       "4  202001  29151100    2915  1017700.0             1.0            RS       1\n",
       "5  202001  29151210    2915   917800.0             1.0            RS       1\n",
       "6  202001  29151210    2915  1017700.0             1.0            RS       1\n",
       "7  202001  29151290    2915   817600.0             4.0            SP       1\n",
       "8  202001  29151290    2915   817800.0             1.0            SP       1\n",
       "9  202001  29151390    2915  1017700.0             1.0            RS       1"
      ]
     },
     "execution_count": 22,
     "metadata": {},
     "output_type": "execute_result"
    }
   ],
   "source": [
    "df_grupos = df_clean.groupby(['anomes', *COMBINACAO_TARGET]).size()\n",
    "df_grupos = df_grupos.reset_index().rename({0: 'target'}, axis=1)\n",
    "df_grupos['target'] = 1\n",
    "df_grupos.head(10)"
   ]
  },
  {
   "cell_type": "code",
   "execution_count": 23,
   "id": "38034804-4d23-48e1-8e17-634370ac1fb7",
   "metadata": {
    "tags": []
   },
   "outputs": [
    {
     "data": {
      "text/plain": [
       "(76511, 7)"
      ]
     },
     "execution_count": 23,
     "metadata": {},
     "output_type": "execute_result"
    }
   ],
   "source": [
    "df_grupos.shape"
   ]
  },
  {
   "cell_type": "code",
   "execution_count": 24,
   "id": "4c7ae294-15dd-4276-9293-756e99dbf239",
   "metadata": {
    "tags": []
   },
   "outputs": [],
   "source": [
    "df_grupos_target_1 = df_grupos.groupby(COMBINACAO_TARGET)\n"
   ]
  },
  {
   "cell_type": "code",
   "execution_count": 25,
   "id": "4ba1de91-ff4e-480b-88fe-8ad9e0afbc90",
   "metadata": {
    "tags": []
   },
   "outputs": [],
   "source": [
    "df_completo = None\n",
    "for g in df_grupos_target_1.groups.keys():\n",
    "    \n",
    "    def_merge = df_data_range.merge(df_grupos_target_1.get_group(g)\n",
    "                    , on='anomes'\n",
    "                    , how='left')\n",
    "    \n",
    "    def_merge = def_merge.fillna({'target': 0}).ffill().bfill()\n",
    "    \n",
    "    if df_completo is None:\n",
    "        df_completo = def_merge\n",
    "    else:\n",
    "        df_completo = pd.concat([df_completo, def_merge])"
   ]
  },
  {
   "cell_type": "code",
   "execution_count": 26,
   "id": "be08ee91-518c-4d7b-b426-88663b433874",
   "metadata": {
    "tags": []
   },
   "outputs": [
    {
     "data": {
      "text/plain": [
       "(404867, 7)"
      ]
     },
     "execution_count": 26,
     "metadata": {},
     "output_type": "execute_result"
    }
   ],
   "source": [
    "df_completo.shape"
   ]
  },
  {
   "cell_type": "code",
   "execution_count": 27,
   "id": "0e91adf6-bea9-4901-85eb-7c32b1810d6b",
   "metadata": {
    "tags": []
   },
   "outputs": [
    {
     "data": {
      "text/plain": [
       "anomes            0\n",
       "cod_ncm           0\n",
       "hscode            0\n",
       "urf_cod           0\n",
       "via_transp_cod    0\n",
       "sgl_uf_import     0\n",
       "target            0\n",
       "dtype: int64"
      ]
     },
     "execution_count": 27,
     "metadata": {},
     "output_type": "execute_result"
    }
   ],
   "source": [
    "df_completo.isna().sum()"
   ]
  },
  {
   "cell_type": "code",
   "execution_count": 28,
   "id": "9c97c072-7016-4c78-b45c-4964bb1d9883",
   "metadata": {
    "tags": []
   },
   "outputs": [
    {
     "data": {
      "text/html": [
       "<div>\n",
       "<style scoped>\n",
       "    .dataframe tbody tr th:only-of-type {\n",
       "        vertical-align: middle;\n",
       "    }\n",
       "\n",
       "    .dataframe tbody tr th {\n",
       "        vertical-align: top;\n",
       "    }\n",
       "\n",
       "    .dataframe thead th {\n",
       "        text-align: right;\n",
       "    }\n",
       "</style>\n",
       "<table border=\"1\" class=\"dataframe\">\n",
       "  <thead>\n",
       "    <tr style=\"text-align: right;\">\n",
       "      <th></th>\n",
       "      <th>anomes</th>\n",
       "      <th>cod_ncm</th>\n",
       "      <th>hscode</th>\n",
       "      <th>urf_cod</th>\n",
       "      <th>via_transp_cod</th>\n",
       "      <th>sgl_uf_import</th>\n",
       "      <th>target</th>\n",
       "    </tr>\n",
       "  </thead>\n",
       "  <tbody>\n",
       "    <tr>\n",
       "      <th>47</th>\n",
       "      <td>202312</td>\n",
       "      <td>84433910.0</td>\n",
       "      <td>8443.0</td>\n",
       "      <td>1010252.0</td>\n",
       "      <td>7.0</td>\n",
       "      <td>RS</td>\n",
       "      <td>0.0</td>\n",
       "    </tr>\n",
       "    <tr>\n",
       "      <th>10</th>\n",
       "      <td>202011</td>\n",
       "      <td>29211999.0</td>\n",
       "      <td>2921.0</td>\n",
       "      <td>927800.0</td>\n",
       "      <td>1.0</td>\n",
       "      <td>SP</td>\n",
       "      <td>0.0</td>\n",
       "    </tr>\n",
       "    <tr>\n",
       "      <th>14</th>\n",
       "      <td>202103</td>\n",
       "      <td>90183926.0</td>\n",
       "      <td>9018.0</td>\n",
       "      <td>817600.0</td>\n",
       "      <td>4.0</td>\n",
       "      <td>SP</td>\n",
       "      <td>0.0</td>\n",
       "    </tr>\n",
       "    <tr>\n",
       "      <th>32</th>\n",
       "      <td>202209</td>\n",
       "      <td>87089100.0</td>\n",
       "      <td>8708.0</td>\n",
       "      <td>1017801.0</td>\n",
       "      <td>4.0</td>\n",
       "      <td>RS</td>\n",
       "      <td>0.0</td>\n",
       "    </tr>\n",
       "    <tr>\n",
       "      <th>12</th>\n",
       "      <td>202101</td>\n",
       "      <td>85414024.0</td>\n",
       "      <td>8541.0</td>\n",
       "      <td>1017800.0</td>\n",
       "      <td>4.0</td>\n",
       "      <td>RS</td>\n",
       "      <td>0.0</td>\n",
       "    </tr>\n",
       "    <tr>\n",
       "      <th>38</th>\n",
       "      <td>202303</td>\n",
       "      <td>85412191.0</td>\n",
       "      <td>8541.0</td>\n",
       "      <td>817700.0</td>\n",
       "      <td>4.0</td>\n",
       "      <td>RS</td>\n",
       "      <td>1.0</td>\n",
       "    </tr>\n",
       "    <tr>\n",
       "      <th>4</th>\n",
       "      <td>202005</td>\n",
       "      <td>29339956.0</td>\n",
       "      <td>2933.0</td>\n",
       "      <td>817600.0</td>\n",
       "      <td>4.0</td>\n",
       "      <td>SP</td>\n",
       "      <td>0.0</td>\n",
       "    </tr>\n",
       "    <tr>\n",
       "      <th>33</th>\n",
       "      <td>202210</td>\n",
       "      <td>85411021.0</td>\n",
       "      <td>8541.0</td>\n",
       "      <td>927800.0</td>\n",
       "      <td>1.0</td>\n",
       "      <td>SP</td>\n",
       "      <td>0.0</td>\n",
       "    </tr>\n",
       "    <tr>\n",
       "      <th>6</th>\n",
       "      <td>202007</td>\n",
       "      <td>85412199.0</td>\n",
       "      <td>8541.0</td>\n",
       "      <td>817700.0</td>\n",
       "      <td>1.0</td>\n",
       "      <td>SP</td>\n",
       "      <td>0.0</td>\n",
       "    </tr>\n",
       "    <tr>\n",
       "      <th>24</th>\n",
       "      <td>202201</td>\n",
       "      <td>29335200.0</td>\n",
       "      <td>2933.0</td>\n",
       "      <td>817700.0</td>\n",
       "      <td>4.0</td>\n",
       "      <td>RS</td>\n",
       "      <td>0.0</td>\n",
       "    </tr>\n",
       "  </tbody>\n",
       "</table>\n",
       "</div>"
      ],
      "text/plain": [
       "    anomes     cod_ncm  hscode    urf_cod  via_transp_cod sgl_uf_import  \\\n",
       "47  202312  84433910.0  8443.0  1010252.0             7.0            RS   \n",
       "10  202011  29211999.0  2921.0   927800.0             1.0            SP   \n",
       "14  202103  90183926.0  9018.0   817600.0             4.0            SP   \n",
       "32  202209  87089100.0  8708.0  1017801.0             4.0            RS   \n",
       "12  202101  85414024.0  8541.0  1017800.0             4.0            RS   \n",
       "38  202303  85412191.0  8541.0   817700.0             4.0            RS   \n",
       "4   202005  29339956.0  2933.0   817600.0             4.0            SP   \n",
       "33  202210  85411021.0  8541.0   927800.0             1.0            SP   \n",
       "6   202007  85412199.0  8541.0   817700.0             1.0            SP   \n",
       "24  202201  29335200.0  2933.0   817700.0             4.0            RS   \n",
       "\n",
       "    target  \n",
       "47     0.0  \n",
       "10     0.0  \n",
       "14     0.0  \n",
       "32     0.0  \n",
       "12     0.0  \n",
       "38     1.0  \n",
       "4      0.0  \n",
       "33     0.0  \n",
       "6      0.0  \n",
       "24     0.0  "
      ]
     },
     "execution_count": 28,
     "metadata": {},
     "output_type": "execute_result"
    }
   ],
   "source": [
    "df_completo.sample(10)"
   ]
  },
  {
   "cell_type": "code",
   "execution_count": 29,
   "id": "94f990c7-9061-4d4b-9b74-936cb207f3e2",
   "metadata": {},
   "outputs": [
    {
     "data": {
      "image/png": "[encoded data removed]",
      "text/plain": [
       "<Figure size 1200x300 with 1 Axes>"
      ]
     },
     "metadata": {},
     "output_type": "display_data"
    }
   ],
   "source": [
    "df_completo['target'].hist();"
   ]
  },
  {
   "cell_type": "code",
   "execution_count": 30,
   "id": "73dbafa8-5262-4968-8f92-630897a8e1ff",
   "metadata": {
    "tags": []
   },
   "outputs": [],
   "source": [
    "# dataset bastante desbalanceado, até mesmo por conta das muitas observações com apenas 1 dado de importação"
   ]
  },
  {
   "cell_type": "code",
   "execution_count": 31,
   "id": "57830222-2434-4dfa-b679-e34597623ea7",
   "metadata": {
    "tags": []
   },
   "outputs": [],
   "source": [
    "# Dando um nome para a combinação apenas para facilitar encontrá-la no dataset para análises posteriores\n",
    "#df_completo.drop('combinacao', axis=1, errors='ignore', inplace=True)\n",
    "df_completo = define_combination_name(df_completo)\n",
    "#df_completo['combinacao'] = df_completo[COMBINACAO_TARGET].apply(lambda x: \"_\".join([str(c) for c in x.values]), axis=1)"
   ]
  },
  {
   "cell_type": "code",
   "execution_count": 32,
   "id": "8c81cb9e-27ff-41d5-b879-efc4b1a04128",
   "metadata": {
    "tags": []
   },
   "outputs": [
    {
     "data": {
      "text/html": [
       "<div>\n",
       "<style scoped>\n",
       "    .dataframe tbody tr th:only-of-type {\n",
       "        vertical-align: middle;\n",
       "    }\n",
       "\n",
       "    .dataframe tbody tr th {\n",
       "        vertical-align: top;\n",
       "    }\n",
       "\n",
       "    .dataframe thead th {\n",
       "        text-align: right;\n",
       "    }\n",
       "</style>\n",
       "<table border=\"1\" class=\"dataframe\">\n",
       "  <thead>\n",
       "    <tr style=\"text-align: right;\">\n",
       "      <th></th>\n",
       "      <th>anomes</th>\n",
       "      <th>cod_ncm</th>\n",
       "      <th>hscode</th>\n",
       "      <th>urf_cod</th>\n",
       "      <th>via_transp_cod</th>\n",
       "      <th>sgl_uf_import</th>\n",
       "      <th>target</th>\n",
       "      <th>combinacao</th>\n",
       "    </tr>\n",
       "  </thead>\n",
       "  <tbody>\n",
       "    <tr>\n",
       "      <th>42</th>\n",
       "      <td>202307</td>\n",
       "      <td>87084090</td>\n",
       "      <td>8708</td>\n",
       "      <td>1010351</td>\n",
       "      <td>7</td>\n",
       "      <td>SP</td>\n",
       "      <td>0.0</td>\n",
       "      <td>87084090_8708_1010351_7_SP</td>\n",
       "    </tr>\n",
       "    <tr>\n",
       "      <th>22</th>\n",
       "      <td>202111</td>\n",
       "      <td>85177091</td>\n",
       "      <td>8517</td>\n",
       "      <td>727600</td>\n",
       "      <td>1</td>\n",
       "      <td>MG</td>\n",
       "      <td>0.0</td>\n",
       "      <td>85177091_8517_727600_1_MG</td>\n",
       "    </tr>\n",
       "    <tr>\n",
       "      <th>38</th>\n",
       "      <td>202303</td>\n",
       "      <td>29155020</td>\n",
       "      <td>2915</td>\n",
       "      <td>927700</td>\n",
       "      <td>1</td>\n",
       "      <td>RS</td>\n",
       "      <td>0.0</td>\n",
       "      <td>29155020_2915_927700_1_RS</td>\n",
       "    </tr>\n",
       "    <tr>\n",
       "      <th>43</th>\n",
       "      <td>202308</td>\n",
       "      <td>85414025</td>\n",
       "      <td>8541</td>\n",
       "      <td>617700</td>\n",
       "      <td>4</td>\n",
       "      <td>MG</td>\n",
       "      <td>0.0</td>\n",
       "      <td>85414025_8541_617700_4_MG</td>\n",
       "    </tr>\n",
       "    <tr>\n",
       "      <th>17</th>\n",
       "      <td>202106</td>\n",
       "      <td>29331990</td>\n",
       "      <td>2933</td>\n",
       "      <td>817800</td>\n",
       "      <td>1</td>\n",
       "      <td>RJ</td>\n",
       "      <td>0.0</td>\n",
       "      <td>29331990_2933_817800_1_RJ</td>\n",
       "    </tr>\n",
       "    <tr>\n",
       "      <th>21</th>\n",
       "      <td>202110</td>\n",
       "      <td>85171212</td>\n",
       "      <td>8517</td>\n",
       "      <td>817700</td>\n",
       "      <td>4</td>\n",
       "      <td>SP</td>\n",
       "      <td>1.0</td>\n",
       "      <td>85171212_8517_817700_4_SP</td>\n",
       "    </tr>\n",
       "    <tr>\n",
       "      <th>47</th>\n",
       "      <td>202312</td>\n",
       "      <td>85414032</td>\n",
       "      <td>8541</td>\n",
       "      <td>317900</td>\n",
       "      <td>1</td>\n",
       "      <td>SP</td>\n",
       "      <td>0.0</td>\n",
       "      <td>85414032_8541_317900_1_SP</td>\n",
       "    </tr>\n",
       "    <tr>\n",
       "      <th>28</th>\n",
       "      <td>202205</td>\n",
       "      <td>29412090</td>\n",
       "      <td>2941</td>\n",
       "      <td>617700</td>\n",
       "      <td>1</td>\n",
       "      <td>MG</td>\n",
       "      <td>0.0</td>\n",
       "      <td>29412090_2941_617700_1_MG</td>\n",
       "    </tr>\n",
       "    <tr>\n",
       "      <th>22</th>\n",
       "      <td>202111</td>\n",
       "      <td>90189010</td>\n",
       "      <td>9018</td>\n",
       "      <td>817600</td>\n",
       "      <td>4</td>\n",
       "      <td>RS</td>\n",
       "      <td>0.0</td>\n",
       "      <td>90189010_9018_817600_4_RS</td>\n",
       "    </tr>\n",
       "    <tr>\n",
       "      <th>47</th>\n",
       "      <td>202312</td>\n",
       "      <td>29153993</td>\n",
       "      <td>2915</td>\n",
       "      <td>817700</td>\n",
       "      <td>4</td>\n",
       "      <td>SP</td>\n",
       "      <td>0.0</td>\n",
       "      <td>29153993_2915_817700_4_SP</td>\n",
       "    </tr>\n",
       "  </tbody>\n",
       "</table>\n",
       "</div>"
      ],
      "text/plain": [
       "    anomes   cod_ncm  hscode  urf_cod  via_transp_cod sgl_uf_import  target  \\\n",
       "42  202307  87084090    8708  1010351               7            SP     0.0   \n",
       "22  202111  85177091    8517   727600               1            MG     0.0   \n",
       "38  202303  29155020    2915   927700               1            RS     0.0   \n",
       "43  202308  85414025    8541   617700               4            MG     0.0   \n",
       "17  202106  29331990    2933   817800               1            RJ     0.0   \n",
       "21  202110  85171212    8517   817700               4            SP     1.0   \n",
       "47  202312  85414032    8541   317900               1            SP     0.0   \n",
       "28  202205  29412090    2941   617700               1            MG     0.0   \n",
       "22  202111  90189010    9018   817600               4            RS     0.0   \n",
       "47  202312  29153993    2915   817700               4            SP     0.0   \n",
       "\n",
       "                    combinacao  \n",
       "42  87084090_8708_1010351_7_SP  \n",
       "22   85177091_8517_727600_1_MG  \n",
       "38   29155020_2915_927700_1_RS  \n",
       "43   85414025_8541_617700_4_MG  \n",
       "17   29331990_2933_817800_1_RJ  \n",
       "21   85171212_8517_817700_4_SP  \n",
       "47   85414032_8541_317900_1_SP  \n",
       "28   29412090_2941_617700_1_MG  \n",
       "22   90189010_9018_817600_4_RS  \n",
       "47   29153993_2915_817700_4_SP  "
      ]
     },
     "execution_count": 32,
     "metadata": {},
     "output_type": "execute_result"
    }
   ],
   "source": [
    "df_completo.sample(10)"
   ]
  },
  {
   "cell_type": "markdown",
   "id": "d45da5ad-1290-42da-8182-6905e89888f5",
   "metadata": {},
   "source": [
    "### Sazonalidade: \n",
    "* Verificações de sazonalizadade dentro do dataset"
   ]
  },
  {
   "cell_type": "code",
   "execution_count": 33,
   "id": "0ef73b22-79d8-4140-a2ea-a769dacd2e1c",
   "metadata": {
    "tags": []
   },
   "outputs": [],
   "source": [
    "#apenas para deixar alguns plots mais visuais, vou transformar o anomes em uma data\n",
    "df_completo['data'] = df_completo.apply(lambda x: pd.to_datetime(str(x['anomes']*100 +1), format=\"%Y%m%d\"), axis=1)"
   ]
  },
  {
   "cell_type": "code",
   "execution_count": 34,
   "id": "df312c66-9db4-413c-a1bb-a3f8d6c178e2",
   "metadata": {
    "tags": []
   },
   "outputs": [
    {
     "data": {
      "image/png": "[encoded data removed]",
      "text/plain": [
       "<Figure size 1200x300 with 1 Axes>"
      ]
     },
     "metadata": {},
     "output_type": "display_data"
    }
   ],
   "source": [
    "# primeira exploração visual\n",
    "df_completo.loc[(df_completo['combinacao'] == '87082919_8708_927800_1_SP')]\\\n",
    "            .sort_values('anomes')\\\n",
    "            .plot.scatter(x='data', y='target');"
   ]
  },
  {
   "cell_type": "code",
   "execution_count": 35,
   "id": "c8e654de-5059-47a1-b2c9-3f9c89c1fc7b",
   "metadata": {
    "tags": []
   },
   "outputs": [
    {
     "data": {
      "image/png": "[encoded data removed]",
      "text/plain": [
       "<Figure size 1200x300 with 1 Axes>"
      ]
     },
     "metadata": {},
     "output_type": "display_data"
    }
   ],
   "source": [
    "df_completo.loc[df_completo['combinacao'] == '29151100_2915_517800_1_MG'].sort_values('anomes').plot.scatter(x='data', y='target');"
   ]
  },
  {
   "cell_type": "code",
   "execution_count": 36,
   "id": "b510999b-7d1c-4bc5-a3a3-0c17dca36ea8",
   "metadata": {
    "tags": []
   },
   "outputs": [],
   "source": [
    "def define_periodo_sazonalidade(sinal):\n",
    "    \"\"\"\n",
    "    Retorna o possível período de uma sazonalidade com base na autocorrelação dos dados.\n",
    "    Casão não encontre uma sazonalidade, retorna -1\n",
    "    \"\"\"\n",
    "    try:\n",
    "        acf = np.correlate(sinal, sinal, 'full')[-len(sinal):]\n",
    "        inflection = np.diff(np.sign(np.diff(acf)))\n",
    "        picos = (inflection < 0).nonzero()[0]+1\n",
    "        return picos[acf[picos].argmax()]\n",
    "    except:\n",
    "        return -1"
   ]
  },
  {
   "cell_type": "code",
   "execution_count": 37,
   "id": "cfb18fe2-ae2c-48cd-aa0f-67cb8a8651b3",
   "metadata": {
    "tags": []
   },
   "outputs": [
    {
     "data": {
      "text/plain": [
       "4"
      ]
     },
     "execution_count": 37,
     "metadata": {},
     "output_type": "execute_result"
    }
   ],
   "source": [
    "sinal = df_completo.loc[(df_completo['combinacao'] == '87082919_8708_927800_1_SP')]\\\n",
    "            .sort_values('anomes')['target'].values\n",
    "\n",
    "define_periodo_sazonalidade(sinal)"
   ]
  },
  {
   "cell_type": "code",
   "execution_count": 38,
   "id": "0f7fa3da-40f6-4588-bc0e-81f3379fa450",
   "metadata": {
    "tags": []
   },
   "outputs": [],
   "source": [
    "periodo_encoder = {}\n",
    "for c in df_completo['combinacao'].unique():\n",
    "    periodo_encoder[c] = define_periodo_sazonalidade(df_completo.loc[df_completo['combinacao'] == c, 'target'].values)"
   ]
  },
  {
   "cell_type": "code",
   "execution_count": 39,
   "id": "62a5b270-c46a-4978-9feb-7cea20e29145",
   "metadata": {
    "tags": []
   },
   "outputs": [
    {
     "data": {
      "text/html": [
       "<div>\n",
       "<style scoped>\n",
       "    .dataframe tbody tr th:only-of-type {\n",
       "        vertical-align: middle;\n",
       "    }\n",
       "\n",
       "    .dataframe tbody tr th {\n",
       "        vertical-align: top;\n",
       "    }\n",
       "\n",
       "    .dataframe thead th {\n",
       "        text-align: right;\n",
       "    }\n",
       "</style>\n",
       "<table border=\"1\" class=\"dataframe\">\n",
       "  <thead>\n",
       "    <tr style=\"text-align: right;\">\n",
       "      <th></th>\n",
       "      <th>lb_stat</th>\n",
       "      <th>lb_pvalue</th>\n",
       "    </tr>\n",
       "  </thead>\n",
       "  <tbody>\n",
       "    <tr>\n",
       "      <th>1</th>\n",
       "      <td>9.166513</td>\n",
       "      <td>0.002465</td>\n",
       "    </tr>\n",
       "  </tbody>\n",
       "</table>\n",
       "</div>"
      ],
      "text/plain": [
       "    lb_stat  lb_pvalue\n",
       "1  9.166513   0.002465"
      ]
     },
     "execution_count": 39,
     "metadata": {},
     "output_type": "execute_result"
    }
   ],
   "source": [
    "acorr_ljungbox(df_completo.loc[(df_completo['combinacao'] == '87082919_8708_927800_1_SP')]\\\n",
    "            .sort_values('anomes')['target'].values, auto_lag=True)\n",
    "# validando a auto correlação da série para validar se em algum momento ela \"se repete\" (não necessáriamente com perfeição), indicando uma possível sazonalidade"
   ]
  },
  {
   "cell_type": "markdown",
   "id": "1af5bb01-5899-4421-9a9a-05ae89b96ff0",
   "metadata": {},
   "source": [
    "## Análise:\n",
    "* Visualmente parece haver sazonalidade nas importações em algumas combinações\n",
    "* Outros combinações tem pouquissimos dados para realizarmos essa inferência e podem inclusive gerar vies na análise e posteriormente no modelo\n",
    "* IMPORTANTE: aqui o correto seria aplicar um teste estatístico de sazonalidade (como Jung-Box) para cada uma das combinações possíveis, entretanto por simplicidade, nesse momento irei assumir que existe sazonalidade e gerar uma feature cíclica relacionada aos meses do ano.\n",
    "* Para features categóricas de baixa cardinalidade, irei utilizar o one hot enconding\n",
    "* Isso será utilizado como modelo baseline, sendo que posteriormente será possível melhorá-lo"
   ]
  },
  {
   "cell_type": "markdown",
   "id": "d4ea4fdd-75ed-458e-bf15-436feacff7f2",
   "metadata": {
    "tags": []
   },
   "source": [
    "# Feature engineering"
   ]
  },
  {
   "cell_type": "code",
   "execution_count": 40,
   "id": "5657e824-4780-4693-8288-9a0258e8ce2d",
   "metadata": {
    "tags": []
   },
   "outputs": [
    {
     "data": {
      "text/html": [
       "<div>\n",
       "<style scoped>\n",
       "    .dataframe tbody tr th:only-of-type {\n",
       "        vertical-align: middle;\n",
       "    }\n",
       "\n",
       "    .dataframe tbody tr th {\n",
       "        vertical-align: top;\n",
       "    }\n",
       "\n",
       "    .dataframe thead th {\n",
       "        text-align: right;\n",
       "    }\n",
       "</style>\n",
       "<table border=\"1\" class=\"dataframe\">\n",
       "  <thead>\n",
       "    <tr style=\"text-align: right;\">\n",
       "      <th></th>\n",
       "      <th>anomes</th>\n",
       "      <th>cod_ncm</th>\n",
       "      <th>hscode</th>\n",
       "      <th>urf_cod</th>\n",
       "      <th>via_transp_cod</th>\n",
       "      <th>sgl_uf_import</th>\n",
       "      <th>target</th>\n",
       "      <th>combinacao</th>\n",
       "      <th>data</th>\n",
       "    </tr>\n",
       "  </thead>\n",
       "  <tbody>\n",
       "    <tr>\n",
       "      <th>0</th>\n",
       "      <td>202001</td>\n",
       "      <td>29151100</td>\n",
       "      <td>2915</td>\n",
       "      <td>517800</td>\n",
       "      <td>1</td>\n",
       "      <td>MG</td>\n",
       "      <td>0.0</td>\n",
       "      <td>29151100_2915_517800_1_MG</td>\n",
       "      <td>2020-01-01</td>\n",
       "    </tr>\n",
       "  </tbody>\n",
       "</table>\n",
       "</div>"
      ],
      "text/plain": [
       "   anomes   cod_ncm  hscode  urf_cod  via_transp_cod sgl_uf_import  target  \\\n",
       "0  202001  29151100    2915   517800               1            MG     0.0   \n",
       "\n",
       "                  combinacao       data  \n",
       "0  29151100_2915_517800_1_MG 2020-01-01  "
      ]
     },
     "execution_count": 40,
     "metadata": {},
     "output_type": "execute_result"
    }
   ],
   "source": [
    "df_completo.head(1)"
   ]
  },
  {
   "cell_type": "code",
   "execution_count": 41,
   "id": "7ef4f1c8-b385-4c90-916d-df6fb54458ab",
   "metadata": {
    "tags": []
   },
   "outputs": [],
   "source": [
    "# df_to_model.columns.astype(str) "
   ]
  },
  {
   "cell_type": "code",
   "execution_count": 42,
   "id": "8f9ae417-80d1-4558-8e26-4d9db34b67ec",
   "metadata": {
    "tags": []
   },
   "outputs": [],
   "source": [
    "# df_to_model = pd.concat([df_to_model, df_completo[['anomes', 'cod_ncm', 'urf_cod', 'target', 'combinacao', 'data']]], axis=1)\n",
    "\n",
    "# df_to_model.columns = df_to_model.columns.astype(str) \n",
    "# df_to_model = df_completo"
   ]
  },
  {
   "cell_type": "code",
   "execution_count": 43,
   "id": "5dc9c45c-0120-4ba3-b4d5-917d1e1fe9d9",
   "metadata": {
    "tags": []
   },
   "outputs": [],
   "source": [
    "df_train = df_completo.loc[df_completo['data'] < '2024-05-01']\n",
    "df_test = df_completo.loc[df_completo['data'] >= '2024-05-01']\n"
   ]
  },
  {
   "cell_type": "markdown",
   "id": "7f867a75-a0b6-4342-855e-3da50a7278f0",
   "metadata": {},
   "source": [
    "### Encodings\n",
    "* Vou iniciar com features bastante simples para o baseline e posteriormente posso evoluir em features mais avançadas.\n",
    "* Conhecimento de negócio também é algo essencial nessa etapa, então em conversar com áreas de negócio e tambem técnicas encolvidas nessa demanda, seria possível refinar as features\n",
    "* Outra possibilidade seria buscar um entendimetno mais profundo sobre a importação decada um dos códigos(produtos) importados em dados externos que pudessem gerar insights sobre features"
   ]
  },
  {
   "cell_type": "code",
   "execution_count": 44,
   "id": "8c37dddf-462d-4523-a800-45a7798678fd",
   "metadata": {
    "tags": []
   },
   "outputs": [
    {
     "data": {
      "text/html": [
       "<div>\n",
       "<style scoped>\n",
       "    .dataframe tbody tr th:only-of-type {\n",
       "        vertical-align: middle;\n",
       "    }\n",
       "\n",
       "    .dataframe tbody tr th {\n",
       "        vertical-align: top;\n",
       "    }\n",
       "\n",
       "    .dataframe thead th {\n",
       "        text-align: right;\n",
       "    }\n",
       "</style>\n",
       "<table border=\"1\" class=\"dataframe\">\n",
       "  <thead>\n",
       "    <tr style=\"text-align: right;\">\n",
       "      <th></th>\n",
       "      <th>anomes</th>\n",
       "      <th>cod_ncm</th>\n",
       "      <th>hscode</th>\n",
       "      <th>urf_cod</th>\n",
       "      <th>via_transp_cod</th>\n",
       "      <th>sgl_uf_import</th>\n",
       "      <th>target</th>\n",
       "      <th>combinacao</th>\n",
       "      <th>data</th>\n",
       "    </tr>\n",
       "  </thead>\n",
       "  <tbody>\n",
       "    <tr>\n",
       "      <th>0</th>\n",
       "      <td>202001</td>\n",
       "      <td>29151100</td>\n",
       "      <td>2915</td>\n",
       "      <td>517800</td>\n",
       "      <td>1</td>\n",
       "      <td>MG</td>\n",
       "      <td>0.0</td>\n",
       "      <td>29151100_2915_517800_1_MG</td>\n",
       "      <td>2020-01-01</td>\n",
       "    </tr>\n",
       "    <tr>\n",
       "      <th>1</th>\n",
       "      <td>202002</td>\n",
       "      <td>29151100</td>\n",
       "      <td>2915</td>\n",
       "      <td>517800</td>\n",
       "      <td>1</td>\n",
       "      <td>MG</td>\n",
       "      <td>0.0</td>\n",
       "      <td>29151100_2915_517800_1_MG</td>\n",
       "      <td>2020-02-01</td>\n",
       "    </tr>\n",
       "    <tr>\n",
       "      <th>2</th>\n",
       "      <td>202003</td>\n",
       "      <td>29151100</td>\n",
       "      <td>2915</td>\n",
       "      <td>517800</td>\n",
       "      <td>1</td>\n",
       "      <td>MG</td>\n",
       "      <td>0.0</td>\n",
       "      <td>29151100_2915_517800_1_MG</td>\n",
       "      <td>2020-03-01</td>\n",
       "    </tr>\n",
       "    <tr>\n",
       "      <th>3</th>\n",
       "      <td>202004</td>\n",
       "      <td>29151100</td>\n",
       "      <td>2915</td>\n",
       "      <td>517800</td>\n",
       "      <td>1</td>\n",
       "      <td>MG</td>\n",
       "      <td>0.0</td>\n",
       "      <td>29151100_2915_517800_1_MG</td>\n",
       "      <td>2020-04-01</td>\n",
       "    </tr>\n",
       "    <tr>\n",
       "      <th>4</th>\n",
       "      <td>202005</td>\n",
       "      <td>29151100</td>\n",
       "      <td>2915</td>\n",
       "      <td>517800</td>\n",
       "      <td>1</td>\n",
       "      <td>MG</td>\n",
       "      <td>0.0</td>\n",
       "      <td>29151100_2915_517800_1_MG</td>\n",
       "      <td>2020-05-01</td>\n",
       "    </tr>\n",
       "    <tr>\n",
       "      <th>...</th>\n",
       "      <td>...</td>\n",
       "      <td>...</td>\n",
       "      <td>...</td>\n",
       "      <td>...</td>\n",
       "      <td>...</td>\n",
       "      <td>...</td>\n",
       "      <td>...</td>\n",
       "      <td>...</td>\n",
       "      <td>...</td>\n",
       "    </tr>\n",
       "    <tr>\n",
       "      <th>47</th>\n",
       "      <td>202312</td>\n",
       "      <td>90189099</td>\n",
       "      <td>9018</td>\n",
       "      <td>9999999</td>\n",
       "      <td>4</td>\n",
       "      <td>RS</td>\n",
       "      <td>0.0</td>\n",
       "      <td>90189099_9018_9999999_4_RS</td>\n",
       "      <td>2023-12-01</td>\n",
       "    </tr>\n",
       "    <tr>\n",
       "      <th>48</th>\n",
       "      <td>202401</td>\n",
       "      <td>90189099</td>\n",
       "      <td>9018</td>\n",
       "      <td>9999999</td>\n",
       "      <td>4</td>\n",
       "      <td>RS</td>\n",
       "      <td>0.0</td>\n",
       "      <td>90189099_9018_9999999_4_RS</td>\n",
       "      <td>2024-01-01</td>\n",
       "    </tr>\n",
       "    <tr>\n",
       "      <th>49</th>\n",
       "      <td>202402</td>\n",
       "      <td>90189099</td>\n",
       "      <td>9018</td>\n",
       "      <td>9999999</td>\n",
       "      <td>4</td>\n",
       "      <td>RS</td>\n",
       "      <td>0.0</td>\n",
       "      <td>90189099_9018_9999999_4_RS</td>\n",
       "      <td>2024-02-01</td>\n",
       "    </tr>\n",
       "    <tr>\n",
       "      <th>50</th>\n",
       "      <td>202403</td>\n",
       "      <td>90189099</td>\n",
       "      <td>9018</td>\n",
       "      <td>9999999</td>\n",
       "      <td>4</td>\n",
       "      <td>RS</td>\n",
       "      <td>0.0</td>\n",
       "      <td>90189099_9018_9999999_4_RS</td>\n",
       "      <td>2024-03-01</td>\n",
       "    </tr>\n",
       "    <tr>\n",
       "      <th>51</th>\n",
       "      <td>202404</td>\n",
       "      <td>90189099</td>\n",
       "      <td>9018</td>\n",
       "      <td>9999999</td>\n",
       "      <td>4</td>\n",
       "      <td>RS</td>\n",
       "      <td>0.0</td>\n",
       "      <td>90189099_9018_9999999_4_RS</td>\n",
       "      <td>2024-04-01</td>\n",
       "    </tr>\n",
       "  </tbody>\n",
       "</table>\n",
       "<p>397228 rows × 9 columns</p>\n",
       "</div>"
      ],
      "text/plain": [
       "    anomes   cod_ncm  hscode  urf_cod  via_transp_cod sgl_uf_import  target  \\\n",
       "0   202001  29151100    2915   517800               1            MG     0.0   \n",
       "1   202002  29151100    2915   517800               1            MG     0.0   \n",
       "2   202003  29151100    2915   517800               1            MG     0.0   \n",
       "3   202004  29151100    2915   517800               1            MG     0.0   \n",
       "4   202005  29151100    2915   517800               1            MG     0.0   \n",
       "..     ...       ...     ...      ...             ...           ...     ...   \n",
       "47  202312  90189099    9018  9999999               4            RS     0.0   \n",
       "48  202401  90189099    9018  9999999               4            RS     0.0   \n",
       "49  202402  90189099    9018  9999999               4            RS     0.0   \n",
       "50  202403  90189099    9018  9999999               4            RS     0.0   \n",
       "51  202404  90189099    9018  9999999               4            RS     0.0   \n",
       "\n",
       "                    combinacao       data  \n",
       "0    29151100_2915_517800_1_MG 2020-01-01  \n",
       "1    29151100_2915_517800_1_MG 2020-02-01  \n",
       "2    29151100_2915_517800_1_MG 2020-03-01  \n",
       "3    29151100_2915_517800_1_MG 2020-04-01  \n",
       "4    29151100_2915_517800_1_MG 2020-05-01  \n",
       "..                         ...        ...  \n",
       "47  90189099_9018_9999999_4_RS 2023-12-01  \n",
       "48  90189099_9018_9999999_4_RS 2024-01-01  \n",
       "49  90189099_9018_9999999_4_RS 2024-02-01  \n",
       "50  90189099_9018_9999999_4_RS 2024-03-01  \n",
       "51  90189099_9018_9999999_4_RS 2024-04-01  \n",
       "\n",
       "[397228 rows x 9 columns]"
      ]
     },
     "execution_count": 44,
     "metadata": {},
     "output_type": "execute_result"
    }
   ],
   "source": [
    "df_train"
   ]
  },
  {
   "cell_type": "code",
   "execution_count": 45,
   "id": "b601a4e2-6447-4830-a6ba-ce76c5c2a4ee",
   "metadata": {},
   "outputs": [],
   "source": [
    "encoder_via_trans = OneHotEncoder(sparse_output=False, handle_unknown='ignore')\n",
    "encoder_hscode = OneHotEncoder(sparse_output=False, handle_unknown='ignore')\n",
    "encoder_sgl_uf_import = OneHotEncoder(sparse_output=False, handle_unknown='ignore')\n",
    "\n",
    "encoder_via_trans.fit(df_train[['via_transp_cod']])\n",
    "encoder_hscode.fit(df_train[['hscode']])\n",
    "encoder_sgl_uf_import.fit(df_train[['sgl_uf_import']]);\n",
    "\n",
    "\n",
    "target_encoder = TargetEncoder(verbose=2, cols=COMBINACAO_TARGET)\n",
    "target_encoder = target_encoder.fit(df_train[COMBINACAO_TARGET], df_train['target'])"
   ]
  },
  {
   "cell_type": "code",
   "execution_count": 67,
   "id": "2826d6b4-5637-40f2-b11f-a9aec31e4750",
   "metadata": {
    "tags": []
   },
   "outputs": [],
   "source": [
    "def feature_periodo(dataset):\n",
    "    periodo = pd.DataFrame.from_dict({'periodo': periodo_encoder}).reset_index().rename({'index':'combinacao'}, axis=1)\n",
    "    dataset = define_combination_name(dataset)\n",
    "    dataset = dataset.merge(periodo, on='combinacao', how='left').fillna(-1)\n",
    "    return dataset\n",
    "    \n",
    "def oneHotEncoding(dataset):\n",
    "    \"\"\"\n",
    "       Função auxiliar para transformação do dataset\n",
    "    \"\"\"\n",
    "    dataset = pd.concat([dataset.reset_index(drop=True), pd.DataFrame(encoder_via_trans.transform(dataset[['via_transp_cod']]), columns=encoder_via_trans.categories_[0].astype(str))], axis=1)\n",
    "    dataset = pd.concat([dataset.reset_index(drop=True), pd.DataFrame(encoder_hscode.transform(dataset[['hscode']]), columns=encoder_hscode.categories_[0].astype(str))], axis=1)\n",
    "    dataset = pd.concat([dataset.reset_index(drop=True), pd.DataFrame(encoder_sgl_uf_import.transform(dataset[['sgl_uf_import']]), columns=encoder_sgl_uf_import.categories_[0].astype(str))], axis=1)\n",
    "    return dataset\n",
    "\n",
    "def cyclicEncoding(dataset):\n",
    "    \"\"\"\n",
    "    Como a data não é dada no dataset de validação, não posso usar essa feature\n",
    "    \"\"\"\n",
    "    dataset = pd.concat([dataset.reset_index(drop=True), pd.Series((np.sin(dataset['data'].dt.month-1)/5.5), name='seno_mes')], axis=1)\n",
    "    dataset = pd.concat([dataset.reset_index(drop=True), pd.Series((np.cos(dataset['data'].dt.month-1)/5.5), name='cosseno_mes')], axis=1)\n",
    "    return dataset\n",
    "    \n",
    "def create_features_target(dataset):\n",
    "    dataset = oneHotEncoding(dataset)\n",
    "    dataset = cyclicEncoding(dataset)\n",
    "    # dataset = feature_periodo(dataset) # removido, pois apresentou indicios de overfit\n",
    "    \n",
    "    x = dataset.drop(['anomes', 'cod_ncm', 'urf_cod', 'target', 'combinacao', 'data', 'sgl_uf_import', 'hscode', 'via_transp_cod'], axis=1, errors='ignore')\n",
    "    if 'target' in dataset.columns:\n",
    "        y = dataset['target']\n",
    "    else:\n",
    "        y=None\n",
    "    #x = pd.concat([x.reset_index(drop=True), target_encoder.transform(dataset[COMBINACAO_TARGET])], axis=1) # removido, pois estava gerando overfit\n",
    "    \n",
    "    return x, y\n",
    "    "
   ]
  },
  {
   "cell_type": "code",
   "execution_count": 68,
   "id": "2b6d284d-437a-4ce7-a8fb-7d66de82bdee",
   "metadata": {
    "tags": []
   },
   "outputs": [],
   "source": [
    "x_test, y_test = create_features_target(df_test)\n",
    "x_train, y_train = create_features_target(df_train)"
   ]
  },
  {
   "cell_type": "code",
   "execution_count": 69,
   "id": "2a1c0ef4-b00e-4c18-8af1-2a01c026e2ab",
   "metadata": {
    "tags": []
   },
   "outputs": [],
   "source": [
    "# Vou iniciar com uma randon forest, um algorítmo não liear bastante robustoe que pode ser utilizado como um baseline\n",
    "rf= RandomForestClassifier(random_state=2024)"
   ]
  },
  {
   "cell_type": "code",
   "execution_count": 70,
   "id": "ca1722cc-01d6-4130-b46f-030edf7ca76e",
   "metadata": {
    "tags": []
   },
   "outputs": [
    {
     "data": {
      "text/html": [
       "<style>#sk-container-id-2 {\n",
       "  /* Definition of color scheme common for light and dark mode */\n",
       "  --sklearn-color-text: black;\n",
       "  --sklearn-color-line: gray;\n",
       "  /* Definition of color scheme for unfitted estimators */\n",
       "  --sklearn-color-unfitted-level-0: #fff5e6;\n",
       "  --sklearn-color-unfitted-level-1: #f6e4d2;\n",
       "  --sklearn-color-unfitted-level-2: #ffe0b3;\n",
       "  --sklearn-color-unfitted-level-3: chocolate;\n",
       "  /* Definition of color scheme for fitted estimators */\n",
       "  --sklearn-color-fitted-level-0: #f0f8ff;\n",
       "  --sklearn-color-fitted-level-1: #d4ebff;\n",
       "  --sklearn-color-fitted-level-2: #b3dbfd;\n",
       "  --sklearn-color-fitted-level-3: cornflowerblue;\n",
       "\n",
       "  /* Specific color for light theme */\n",
       "  --sklearn-color-text-on-default-background: var(--sg-text-color, var(--theme-code-foreground, var(--jp-content-font-color1, black)));\n",
       "  --sklearn-color-background: var(--sg-background-color, var(--theme-background, var(--jp-layout-color0, white)));\n",
       "  --sklearn-color-border-box: var(--sg-text-color, var(--theme-code-foreground, var(--jp-content-font-color1, black)));\n",
       "  --sklearn-color-icon: #696969;\n",
       "\n",
       "  @media (prefers-color-scheme: dark) {\n",
       "    /* Redefinition of color scheme for dark theme */\n",
       "    --sklearn-color-text-on-default-background: var(--sg-text-color, var(--theme-code-foreground, var(--jp-content-font-color1, white)));\n",
       "    --sklearn-color-background: var(--sg-background-color, var(--theme-background, var(--jp-layout-color0, #111)));\n",
       "    --sklearn-color-border-box: var(--sg-text-color, var(--theme-code-foreground, var(--jp-content-font-color1, white)));\n",
       "    --sklearn-color-icon: #878787;\n",
       "  }\n",
       "}\n",
       "\n",
       "#sk-container-id-2 {\n",
       "  color: var(--sklearn-color-text);\n",
       "}\n",
       "\n",
       "#sk-container-id-2 pre {\n",
       "  padding: 0;\n",
       "}\n",
       "\n",
       "#sk-container-id-2 input.sk-hidden--visually {\n",
       "  border: 0;\n",
       "  clip: rect(1px 1px 1px 1px);\n",
       "  clip: rect(1px, 1px, 1px, 1px);\n",
       "  height: 1px;\n",
       "  margin: -1px;\n",
       "  overflow: hidden;\n",
       "  padding: 0;\n",
       "  position: absolute;\n",
       "  width: 1px;\n",
       "}\n",
       "\n",
       "#sk-container-id-2 div.sk-dashed-wrapped {\n",
       "  border: 1px dashed var(--sklearn-color-line);\n",
       "  margin: 0 0.4em 0.5em 0.4em;\n",
       "  box-sizing: border-box;\n",
       "  padding-bottom: 0.4em;\n",
       "  background-color: var(--sklearn-color-background);\n",
       "}\n",
       "\n",
       "#sk-container-id-2 div.sk-container {\n",
       "  /* jupyter's `normalize.less` sets `[hidden] { display: none; }`\n",
       "     but bootstrap.min.css set `[hidden] { display: none !important; }`\n",
       "     so we also need the `!important` here to be able to override the\n",
       "     default hidden behavior on the sphinx rendered scikit-learn.org.\n",
       "     See: https://github.com/scikit-learn/scikit-learn/issues/21755 */\n",
       "  display: inline-block !important;\n",
       "  position: relative;\n",
       "}\n",
       "\n",
       "#sk-container-id-2 div.sk-text-repr-fallback {\n",
       "  display: none;\n",
       "}\n",
       "\n",
       "div.sk-parallel-item,\n",
       "div.sk-serial,\n",
       "div.sk-item {\n",
       "  /* draw centered vertical line to link estimators */\n",
       "  background-image: linear-gradient(var(--sklearn-color-text-on-default-background), var(--sklearn-color-text-on-default-background));\n",
       "  background-size: 2px 100%;\n",
       "  background-repeat: no-repeat;\n",
       "  background-position: center center;\n",
       "}\n",
       "\n",
       "/* Parallel-specific style estimator block */\n",
       "\n",
       "#sk-container-id-2 div.sk-parallel-item::after {\n",
       "  content: \"\";\n",
       "  width: 100%;\n",
       "  border-bottom: 2px solid var(--sklearn-color-text-on-default-background);\n",
       "  flex-grow: 1;\n",
       "}\n",
       "\n",
       "#sk-container-id-2 div.sk-parallel {\n",
       "  display: flex;\n",
       "  align-items: stretch;\n",
       "  justify-content: center;\n",
       "  background-color: var(--sklearn-color-background);\n",
       "  position: relative;\n",
       "}\n",
       "\n",
       "#sk-container-id-2 div.sk-parallel-item {\n",
       "  display: flex;\n",
       "  flex-direction: column;\n",
       "}\n",
       "\n",
       "#sk-container-id-2 div.sk-parallel-item:first-child::after {\n",
       "  align-self: flex-end;\n",
       "  width: 50%;\n",
       "}\n",
       "\n",
       "#sk-container-id-2 div.sk-parallel-item:last-child::after {\n",
       "  align-self: flex-start;\n",
       "  width: 50%;\n",
       "}\n",
       "\n",
       "#sk-container-id-2 div.sk-parallel-item:only-child::after {\n",
       "  width: 0;\n",
       "}\n",
       "\n",
       "/* Serial-specific style estimator block */\n",
       "\n",
       "#sk-container-id-2 div.sk-serial {\n",
       "  display: flex;\n",
       "  flex-direction: column;\n",
       "  align-items: center;\n",
       "  background-color: var(--sklearn-color-background);\n",
       "  padding-right: 1em;\n",
       "  padding-left: 1em;\n",
       "}\n",
       "\n",
       "\n",
       "/* Toggleable style: style used for estimator/Pipeline/ColumnTransformer box that is\n",
       "clickable and can be expanded/collapsed.\n",
       "- Pipeline and ColumnTransformer use this feature and define the default style\n",
       "- Estimators will overwrite some part of the style using the `sk-estimator` class\n",
       "*/\n",
       "\n",
       "/* Pipeline and ColumnTransformer style (default) */\n",
       "\n",
       "#sk-container-id-2 div.sk-toggleable {\n",
       "  /* Default theme specific background. It is overwritten whether we have a\n",
       "  specific estimator or a Pipeline/ColumnTransformer */\n",
       "  background-color: var(--sklearn-color-background);\n",
       "}\n",
       "\n",
       "/* Toggleable label */\n",
       "#sk-container-id-2 label.sk-toggleable__label {\n",
       "  cursor: pointer;\n",
       "  display: block;\n",
       "  width: 100%;\n",
       "  margin-bottom: 0;\n",
       "  padding: 0.5em;\n",
       "  box-sizing: border-box;\n",
       "  text-align: center;\n",
       "}\n",
       "\n",
       "#sk-container-id-2 label.sk-toggleable__label-arrow:before {\n",
       "  /* Arrow on the left of the label */\n",
       "  content: \"▸\";\n",
       "  float: left;\n",
       "  margin-right: 0.25em;\n",
       "  color: var(--sklearn-color-icon);\n",
       "}\n",
       "\n",
       "#sk-container-id-2 label.sk-toggleable__label-arrow:hover:before {\n",
       "  color: var(--sklearn-color-text);\n",
       "}\n",
       "\n",
       "/* Toggleable content - dropdown */\n",
       "\n",
       "#sk-container-id-2 div.sk-toggleable__content {\n",
       "  max-height: 0;\n",
       "  max-width: 0;\n",
       "  overflow: hidden;\n",
       "  text-align: left;\n",
       "  /* unfitted */\n",
       "  background-color: var(--sklearn-color-unfitted-level-0);\n",
       "}\n",
       "\n",
       "#sk-container-id-2 div.sk-toggleable__content.fitted {\n",
       "  /* fitted */\n",
       "  background-color: var(--sklearn-color-fitted-level-0);\n",
       "}\n",
       "\n",
       "#sk-container-id-2 div.sk-toggleable__content pre {\n",
       "  margin: 0.2em;\n",
       "  border-radius: 0.25em;\n",
       "  color: var(--sklearn-color-text);\n",
       "  /* unfitted */\n",
       "  background-color: var(--sklearn-color-unfitted-level-0);\n",
       "}\n",
       "\n",
       "#sk-container-id-2 div.sk-toggleable__content.fitted pre {\n",
       "  /* unfitted */\n",
       "  background-color: var(--sklearn-color-fitted-level-0);\n",
       "}\n",
       "\n",
       "#sk-container-id-2 input.sk-toggleable__control:checked~div.sk-toggleable__content {\n",
       "  /* Expand drop-down */\n",
       "  max-height: 200px;\n",
       "  max-width: 100%;\n",
       "  overflow: auto;\n",
       "}\n",
       "\n",
       "#sk-container-id-2 input.sk-toggleable__control:checked~label.sk-toggleable__label-arrow:before {\n",
       "  content: \"▾\";\n",
       "}\n",
       "\n",
       "/* Pipeline/ColumnTransformer-specific style */\n",
       "\n",
       "#sk-container-id-2 div.sk-label input.sk-toggleable__control:checked~label.sk-toggleable__label {\n",
       "  color: var(--sklearn-color-text);\n",
       "  background-color: var(--sklearn-color-unfitted-level-2);\n",
       "}\n",
       "\n",
       "#sk-container-id-2 div.sk-label.fitted input.sk-toggleable__control:checked~label.sk-toggleable__label {\n",
       "  background-color: var(--sklearn-color-fitted-level-2);\n",
       "}\n",
       "\n",
       "/* Estimator-specific style */\n",
       "\n",
       "/* Colorize estimator box */\n",
       "#sk-container-id-2 div.sk-estimator input.sk-toggleable__control:checked~label.sk-toggleable__label {\n",
       "  /* unfitted */\n",
       "  background-color: var(--sklearn-color-unfitted-level-2);\n",
       "}\n",
       "\n",
       "#sk-container-id-2 div.sk-estimator.fitted input.sk-toggleable__control:checked~label.sk-toggleable__label {\n",
       "  /* fitted */\n",
       "  background-color: var(--sklearn-color-fitted-level-2);\n",
       "}\n",
       "\n",
       "#sk-container-id-2 div.sk-label label.sk-toggleable__label,\n",
       "#sk-container-id-2 div.sk-label label {\n",
       "  /* The background is the default theme color */\n",
       "  color: var(--sklearn-color-text-on-default-background);\n",
       "}\n",
       "\n",
       "/* On hover, darken the color of the background */\n",
       "#sk-container-id-2 div.sk-label:hover label.sk-toggleable__label {\n",
       "  color: var(--sklearn-color-text);\n",
       "  background-color: var(--sklearn-color-unfitted-level-2);\n",
       "}\n",
       "\n",
       "/* Label box, darken color on hover, fitted */\n",
       "#sk-container-id-2 div.sk-label.fitted:hover label.sk-toggleable__label.fitted {\n",
       "  color: var(--sklearn-color-text);\n",
       "  background-color: var(--sklearn-color-fitted-level-2);\n",
       "}\n",
       "\n",
       "/* Estimator label */\n",
       "\n",
       "#sk-container-id-2 div.sk-label label {\n",
       "  font-family: monospace;\n",
       "  font-weight: bold;\n",
       "  display: inline-block;\n",
       "  line-height: 1.2em;\n",
       "}\n",
       "\n",
       "#sk-container-id-2 div.sk-label-container {\n",
       "  text-align: center;\n",
       "}\n",
       "\n",
       "/* Estimator-specific */\n",
       "#sk-container-id-2 div.sk-estimator {\n",
       "  font-family: monospace;\n",
       "  border: 1px dotted var(--sklearn-color-border-box);\n",
       "  border-radius: 0.25em;\n",
       "  box-sizing: border-box;\n",
       "  margin-bottom: 0.5em;\n",
       "  /* unfitted */\n",
       "  background-color: var(--sklearn-color-unfitted-level-0);\n",
       "}\n",
       "\n",
       "#sk-container-id-2 div.sk-estimator.fitted {\n",
       "  /* fitted */\n",
       "  background-color: var(--sklearn-color-fitted-level-0);\n",
       "}\n",
       "\n",
       "/* on hover */\n",
       "#sk-container-id-2 div.sk-estimator:hover {\n",
       "  /* unfitted */\n",
       "  background-color: var(--sklearn-color-unfitted-level-2);\n",
       "}\n",
       "\n",
       "#sk-container-id-2 div.sk-estimator.fitted:hover {\n",
       "  /* fitted */\n",
       "  background-color: var(--sklearn-color-fitted-level-2);\n",
       "}\n",
       "\n",
       "/* Specification for estimator info (e.g. \"i\" and \"?\") */\n",
       "\n",
       "/* Common style for \"i\" and \"?\" */\n",
       "\n",
       ".sk-estimator-doc-link,\n",
       "a:link.sk-estimator-doc-link,\n",
       "a:visited.sk-estimator-doc-link {\n",
       "  float: right;\n",
       "  font-size: smaller;\n",
       "  line-height: 1em;\n",
       "  font-family: monospace;\n",
       "  background-color: var(--sklearn-color-background);\n",
       "  border-radius: 1em;\n",
       "  height: 1em;\n",
       "  width: 1em;\n",
       "  text-decoration: none !important;\n",
       "  margin-left: 1ex;\n",
       "  /* unfitted */\n",
       "  border: var(--sklearn-color-unfitted-level-1) 1pt solid;\n",
       "  color: var(--sklearn-color-unfitted-level-1);\n",
       "}\n",
       "\n",
       ".sk-estimator-doc-link.fitted,\n",
       "a:link.sk-estimator-doc-link.fitted,\n",
       "a:visited.sk-estimator-doc-link.fitted {\n",
       "  /* fitted */\n",
       "  border: var(--sklearn-color-fitted-level-1) 1pt solid;\n",
       "  color: var(--sklearn-color-fitted-level-1);\n",
       "}\n",
       "\n",
       "/* On hover */\n",
       "div.sk-estimator:hover .sk-estimator-doc-link:hover,\n",
       ".sk-estimator-doc-link:hover,\n",
       "div.sk-label-container:hover .sk-estimator-doc-link:hover,\n",
       ".sk-estimator-doc-link:hover {\n",
       "  /* unfitted */\n",
       "  background-color: var(--sklearn-color-unfitted-level-3);\n",
       "  color: var(--sklearn-color-background);\n",
       "  text-decoration: none;\n",
       "}\n",
       "\n",
       "div.sk-estimator.fitted:hover .sk-estimator-doc-link.fitted:hover,\n",
       ".sk-estimator-doc-link.fitted:hover,\n",
       "div.sk-label-container:hover .sk-estimator-doc-link.fitted:hover,\n",
       ".sk-estimator-doc-link.fitted:hover {\n",
       "  /* fitted */\n",
       "  background-color: var(--sklearn-color-fitted-level-3);\n",
       "  color: var(--sklearn-color-background);\n",
       "  text-decoration: none;\n",
       "}\n",
       "\n",
       "/* Span, style for the box shown on hovering the info icon */\n",
       ".sk-estimator-doc-link span {\n",
       "  display: none;\n",
       "  z-index: 9999;\n",
       "  position: relative;\n",
       "  font-weight: normal;\n",
       "  right: .2ex;\n",
       "  padding: .5ex;\n",
       "  margin: .5ex;\n",
       "  width: min-content;\n",
       "  min-width: 20ex;\n",
       "  max-width: 50ex;\n",
       "  color: var(--sklearn-color-text);\n",
       "  box-shadow: 2pt 2pt 4pt #999;\n",
       "  /* unfitted */\n",
       "  background: var(--sklearn-color-unfitted-level-0);\n",
       "  border: .5pt solid var(--sklearn-color-unfitted-level-3);\n",
       "}\n",
       "\n",
       ".sk-estimator-doc-link.fitted span {\n",
       "  /* fitted */\n",
       "  background: var(--sklearn-color-fitted-level-0);\n",
       "  border: var(--sklearn-color-fitted-level-3);\n",
       "}\n",
       "\n",
       ".sk-estimator-doc-link:hover span {\n",
       "  display: block;\n",
       "}\n",
       "\n",
       "/* \"?\"-specific style due to the `<a>` HTML tag */\n",
       "\n",
       "#sk-container-id-2 a.estimator_doc_link {\n",
       "  float: right;\n",
       "  font-size: 1rem;\n",
       "  line-height: 1em;\n",
       "  font-family: monospace;\n",
       "  background-color: var(--sklearn-color-background);\n",
       "  border-radius: 1rem;\n",
       "  height: 1rem;\n",
       "  width: 1rem;\n",
       "  text-decoration: none;\n",
       "  /* unfitted */\n",
       "  color: var(--sklearn-color-unfitted-level-1);\n",
       "  border: var(--sklearn-color-unfitted-level-1) 1pt solid;\n",
       "}\n",
       "\n",
       "#sk-container-id-2 a.estimator_doc_link.fitted {\n",
       "  /* fitted */\n",
       "  border: var(--sklearn-color-fitted-level-1) 1pt solid;\n",
       "  color: var(--sklearn-color-fitted-level-1);\n",
       "}\n",
       "\n",
       "/* On hover */\n",
       "#sk-container-id-2 a.estimator_doc_link:hover {\n",
       "  /* unfitted */\n",
       "  background-color: var(--sklearn-color-unfitted-level-3);\n",
       "  color: var(--sklearn-color-background);\n",
       "  text-decoration: none;\n",
       "}\n",
       "\n",
       "#sk-container-id-2 a.estimator_doc_link.fitted:hover {\n",
       "  /* fitted */\n",
       "  background-color: var(--sklearn-color-fitted-level-3);\n",
       "}\n",
       "</style><div id=\"sk-container-id-2\" class=\"sk-top-container\"><div class=\"sk-text-repr-fallback\"><pre>RandomForestClassifier(random_state=2024)</pre><b>In a Jupyter environment, please rerun this cell to show the HTML representation or trust the notebook. <br />On GitHub, the HTML representation is unable to render, please try loading this page with nbviewer.org.</b></div><div class=\"sk-container\" hidden><div class=\"sk-item\"><div class=\"sk-estimator fitted sk-toggleable\"><input class=\"sk-toggleable__control sk-hidden--visually\" id=\"sk-estimator-id-2\" type=\"checkbox\" checked><label for=\"sk-estimator-id-2\" class=\"sk-toggleable__label fitted sk-toggleable__label-arrow fitted\">&nbsp;&nbsp;RandomForestClassifier<a class=\"sk-estimator-doc-link fitted\" rel=\"noreferrer\" target=\"_blank\" href=\"https://scikit-learn.org/1.5/modules/generated/sklearn.ensemble.RandomForestClassifier.html\">?<span>Documentation for RandomForestClassifier</span></a><span class=\"sk-estimator-doc-link fitted\">i<span>Fitted</span></span></label><div class=\"sk-toggleable__content fitted\"><pre>RandomForestClassifier(random_state=2024)</pre></div> </div></div></div></div>"
      ],
      "text/plain": [
       "RandomForestClassifier(random_state=2024)"
      ]
     },
     "execution_count": 70,
     "metadata": {},
     "output_type": "execute_result"
    }
   ],
   "source": [
    "rf.fit(x_train, y_train, sample_weight=(y_train+0.5)*5)\n",
    "# dando mais importência aos exemplos de treinamento positivo\n",
    "# poeria utulizar um undersampling ou over sampling, porém para o baseline sigo com a abordagem mais simples"
   ]
  },
  {
   "cell_type": "code",
   "execution_count": 71,
   "id": "c7a1912b-76f9-4544-b068-b9f1cd5478ec",
   "metadata": {
    "tags": []
   },
   "outputs": [],
   "source": [
    "y_pred = rf.predict(x_test)"
   ]
  },
  {
   "cell_type": "code",
   "execution_count": 72,
   "id": "725a54c7-0950-4d75-9288-569924b7a0fc",
   "metadata": {
    "tags": []
   },
   "outputs": [
    {
     "name": "stdout",
     "output_type": "stream",
     "text": [
      "              precision    recall  f1-score   support\n",
      "\n",
      "         0.0       0.84      0.81      0.83      6144\n",
      "         1.0       0.32      0.37      0.34      1495\n",
      "\n",
      "    accuracy                           0.72      7639\n",
      "   macro avg       0.58      0.59      0.58      7639\n",
      "weighted avg       0.74      0.72      0.73      7639\n",
      "\n"
     ]
    }
   ],
   "source": [
    "print(classification_report(y_test, y_pred))"
   ]
  },
  {
   "cell_type": "code",
   "execution_count": 73,
   "id": "110e78e0-1cc2-4ce0-b74f-13889aff0a09",
   "metadata": {
    "tags": []
   },
   "outputs": [
    {
     "name": "stdout",
     "output_type": "stream",
     "text": [
      "              precision    recall  f1-score   support\n",
      "\n",
      "         0.0       0.85      0.80      0.82    322212\n",
      "         1.0       0.31      0.37      0.33     75016\n",
      "\n",
      "    accuracy                           0.72    397228\n",
      "   macro avg       0.58      0.59      0.58    397228\n",
      "weighted avg       0.74      0.72      0.73    397228\n",
      "\n"
     ]
    }
   ],
   "source": [
    "print(classification_report(y_train, rf.predict(x_train)))"
   ]
  },
  {
   "cell_type": "code",
   "execution_count": 74,
   "id": "683a7393-3541-4259-a84c-dceadc6b31e0",
   "metadata": {
    "tags": []
   },
   "outputs": [],
   "source": [
    "matriz_confusao = confusion_matrix(y_test, y_pred)"
   ]
  },
  {
   "cell_type": "code",
   "execution_count": 75,
   "id": "8b58a4ea-ab18-47b5-8955-ecb537804835",
   "metadata": {},
   "outputs": [
    {
     "data": {
      "text/plain": [
       "<sklearn.metrics._plot.confusion_matrix.ConfusionMatrixDisplay at 0x7f6c056a8410>"
      ]
     },
     "execution_count": 75,
     "metadata": {},
     "output_type": "execute_result"
    },
    {
     "data": {
      "image/png": "[encoded data removed]",
      "text/plain": [
       "<Figure size 1200x300 with 2 Axes>"
      ]
     },
     "metadata": {},
     "output_type": "display_data"
    }
   ],
   "source": [
    "ConfusionMatrixDisplay(matriz_confusao).plot()"
   ]
  },
  {
   "cell_type": "code",
   "execution_count": 76,
   "id": "b420828d-413e-4a13-a331-0bffb732e0b4",
   "metadata": {
    "tags": []
   },
   "outputs": [],
   "source": [
    "dataset_test = pd.read_csv('./Data/base_teste_202405.csv')\n",
    "dataset_test['anomes'] = 202405\n",
    "dataset_test = dataset_test.rename({'combinacao_202405':'target'}, axis=1)\n",
    "dataset_test['data'] = dataset_test.apply(lambda x: pd.to_datetime(str(x['anomes']*100 +1), format=\"%Y%m%d\"), axis=1)"
   ]
  },
  {
   "cell_type": "code",
   "execution_count": 77,
   "id": "fe8adcd1-feeb-4ada-a115-6bb8e5a5fc29",
   "metadata": {
    "tags": []
   },
   "outputs": [
    {
     "name": "stdout",
     "output_type": "stream",
     "text": [
      "<class 'pandas.core.frame.DataFrame'>\n",
      "RangeIndex: 18067 entries, 0 to 18066\n",
      "Data columns (total 11 columns):\n",
      " #   Column           Non-Null Count  Dtype         \n",
      "---  ------           --------------  -----         \n",
      " 0   cod_ncm          18067 non-null  int64         \n",
      " 1   hscode           18067 non-null  int64         \n",
      " 2   cod_pais_origem  18067 non-null  int64         \n",
      " 3   urf_cod          18067 non-null  int64         \n",
      " 4   via_transp_cod   18067 non-null  int64         \n",
      " 5   sgl_uf_import    18067 non-null  object        \n",
      " 6   city_cod         18067 non-null  int64         \n",
      " 7   cidade_import    18067 non-null  object        \n",
      " 8   target           18067 non-null  int64         \n",
      " 9   anomes           18067 non-null  int64         \n",
      " 10  data             18067 non-null  datetime64[ns]\n",
      "dtypes: datetime64[ns](1), int64(8), object(2)\n",
      "memory usage: 1.5+ MB\n"
     ]
    }
   ],
   "source": [
    "dataset_test.info()"
   ]
  },
  {
   "cell_type": "code",
   "execution_count": 78,
   "id": "9b675c54-2aa8-4ebd-819b-3646e2d5d219",
   "metadata": {
    "tags": []
   },
   "outputs": [],
   "source": [
    "x, y = create_features_target(dataset_test)\n",
    "x = x.drop(['cod_pais_origem',\n",
    "'city_cod',\n",
    "'cidade_import'],axis=1)"
   ]
  },
  {
   "cell_type": "code",
   "execution_count": 79,
   "id": "e5d1041d-0491-4bbe-b0cd-a51ae4288de7",
   "metadata": {
    "tags": []
   },
   "outputs": [],
   "source": [
    "y_pred_test = rf.predict(x)"
   ]
  },
  {
   "cell_type": "code",
   "execution_count": 80,
   "id": "e6da5cdb-9832-4c44-aeb9-1ee33b2a01c0",
   "metadata": {
    "tags": []
   },
   "outputs": [
    {
     "data": {
      "text/plain": [
       "<sklearn.metrics._plot.confusion_matrix.ConfusionMatrixDisplay at 0x7f6c077c55d0>"
      ]
     },
     "execution_count": 80,
     "metadata": {},
     "output_type": "execute_result"
    },
    {
     "data": {
      "image/png": "[encoded data removed]",
      "text/plain": [
       "<Figure size 1200x300 with 2 Axes>"
      ]
     },
     "metadata": {},
     "output_type": "display_data"
    }
   ],
   "source": [
    "ConfusionMatrixDisplay(confusion_matrix(y, y_pred_test)).plot()"
   ]
  },
  {
   "cell_type": "code",
   "execution_count": 81,
   "id": "bc7ff83b-e86f-424e-a163-95319da18fcb",
   "metadata": {
    "tags": []
   },
   "outputs": [
    {
     "name": "stdout",
     "output_type": "stream",
     "text": [
      "              precision    recall  f1-score   support\n",
      "\n",
      "           0       0.81      0.62      0.70     14371\n",
      "           1       0.23      0.43      0.30      3696\n",
      "\n",
      "    accuracy                           0.58     18067\n",
      "   macro avg       0.52      0.53      0.50     18067\n",
      "weighted avg       0.69      0.58      0.62     18067\n",
      "\n"
     ]
    }
   ],
   "source": [
    "print(classification_report(y, y_pred_test))"
   ]
  },
  {
   "cell_type": "code",
   "execution_count": 82,
   "id": "b40857a8-9f54-4a63-b570-a4b5781fa0ec",
   "metadata": {
    "tags": []
   },
   "outputs": [
    {
     "data": {
      "image/png": "[encoded data removed]",
      "text/plain": [
       "<Figure size 1200x300 with 1 Axes>"
      ]
     },
     "metadata": {},
     "output_type": "display_data"
    }
   ],
   "source": [
    "pd.Series(rf.feature_importances_*100, index=x_test.columns).sort_values(ascending=False).plot.bar(title='Feature importance');"
   ]
  },
  {
   "cell_type": "markdown",
   "id": "f03a69ed-6356-482c-a5d4-3c68fbd88a0d",
   "metadata": {
    "tags": []
   },
   "source": [
    "# Evoluções:\n",
    "* Como proximos passos em termos de modelo, poderia realizar a otimmização de hiperparâmetros\n",
    "* No aso de algoritmos de árvores ou não probabilísiticos ainda seria necessário realizar a calibração para maior assertividade\n",
    "* IMPORTANTE: Mais do que melhorar o modelo, seria necessário um aprofundamento em EDA e feature engineering para melhorar a explicabilidade dos dados e buscar mais assertividade"
   ]
  },
  {
   "cell_type": "markdown",
   "id": "4d491f1c-9544-44c3-814d-b555f9731003",
   "metadata": {
    "tags": []
   },
   "source": [
    "# Validação:"
   ]
  },
  {
   "cell_type": "markdown",
   "id": "0b23f5a7-973a-48cf-be76-59124b4a1b0f",
   "metadata": {
    "tags": []
   },
   "source": [
    "* Idealmente deveria fazer o selec das features selecionadas e não o drop das demais.\n",
    "* Nesse momento optei pelo drop por simplicidade"
   ]
  },
  {
   "cell_type": "code",
   "execution_count": 83,
   "id": "2ef2cbcb-9647-4e3a-bbe2-57e92fce37bd",
   "metadata": {
    "tags": []
   },
   "outputs": [],
   "source": [
    "dataset_validacao_original = pd.read_csv('./Data/base_validacao_mes.csv')"
   ]
  },
  {
   "cell_type": "code",
   "execution_count": 84,
   "id": "2545c347-9251-404c-8566-76abd5a358d8",
   "metadata": {
    "tags": []
   },
   "outputs": [],
   "source": [
    "results = []\n",
    "for i in [202406, 202407]:\n",
    "    dataset_validacao = dataset_validacao_original.copy()\n",
    "    dataset_validacao['anomes'] = i\n",
    "    dataset_validacao['data'] = dataset_validacao.apply(lambda x: pd.to_datetime(str(x['anomes']*100 +1), format=\"%Y%m%d\"), axis=1)\n",
    "    x, y = create_features_target(dataset_validacao)\n",
    "    x = x.drop(['cod_pais_origem',\n",
    "                'city_cod',\n",
    "                'cidade_import', \n",
    "                'combinacao_202406', \n",
    "                'combinacao_202407'],axis=1)\n",
    "    \n",
    "    results.append(rf.predict(x))"
   ]
  },
  {
   "cell_type": "code",
   "execution_count": 85,
   "id": "ec679f34-3052-4657-8f1f-ea8552d530ae",
   "metadata": {
    "tags": []
   },
   "outputs": [],
   "source": [
    "dataset_validacao_original['combinacao_202406'] = results[0]\n",
    "dataset_validacao_original['combinacao_202407'] = results[1]"
   ]
  },
  {
   "cell_type": "code",
   "execution_count": 86,
   "id": "facb6752-00d3-4876-ae06-91724f3741c7",
   "metadata": {
    "tags": []
   },
   "outputs": [
    {
     "data": {
      "text/plain": [
       "3.6087895057286765"
      ]
     },
     "execution_count": 86,
     "metadata": {},
     "output_type": "execute_result"
    }
   ],
   "source": [
    "# verificando o percentual de diferença entre os meses\n",
    "dataset_validacao_original.loc[dataset_validacao_original['combinacao_202406'] != dataset_validacao_original['combinacao_202407']].shape[0]*100/dataset_validacao_original.shape[0]"
   ]
  },
  {
   "cell_type": "code",
   "execution_count": 87,
   "id": "3a6c2e44-f111-4d0d-b726-e95bb5161a28",
   "metadata": {
    "tags": []
   },
   "outputs": [],
   "source": [
    "# dataset_validacao_original.to_csv('results.csv')"
   ]
  },
  {
   "cell_type": "code",
   "execution_count": null,
   "id": "b7d1a2b2-1eed-4711-9f27-12ca52b9a44b",
   "metadata": {},
   "outputs": [],
   "source": []
  }
 ],
 "metadata": {
  "kernelspec": {
   "display_name": "Python 3 (ipykernel)",
   "language": "python",
   "name": "python3"
  },
  "language_info": {
   "codemirror_mode": {
    "name": "ipython",
    "version": 3
   },
   "file_extension": ".py",
   "mimetype": "text/x-python",
   "name": "python",
   "nbconvert_exporter": "python",
   "pygments_lexer": "ipython3",
   "version": "3.11.4"
  }
 },
 "nbformat": 4,
 "nbformat_minor": 5
}
